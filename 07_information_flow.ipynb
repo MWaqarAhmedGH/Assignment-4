{
  "nbformat": 4,
  "nbformat_minor": 0,
  "metadata": {
    "colab": {
      "provenance": [],
      "authorship_tag": "ABX9TyPiYCZ+oJ1lgI/R6SlObPYb",
      "include_colab_link": true
    },
    "kernelspec": {
      "name": "python3",
      "display_name": "Python 3"
    },
    "language_info": {
      "name": "python"
    }
  },
  "cells": [
    {
      "cell_type": "markdown",
      "metadata": {
        "id": "view-in-github",
        "colab_type": "text"
      },
      "source": [
        "<a href=\"https://colab.research.google.com/github/MWaqarAhmedGH/Assignment-4/blob/main/07_information_flow.ipynb\" target=\"_parent\"><img src=\"https://colab.research.google.com/assets/colab-badge.svg\" alt=\"Open In Colab\"/></a>"
      ]
    },
    {
      "cell_type": "code",
      "execution_count": 1,
      "metadata": {
        "colab": {
          "base_uri": "https://localhost:8080/"
        },
        "id": "FMbkOqQTVnlM",
        "outputId": "9544fbc2-f62a-4f9a-cb11-f32dc66aaa48"
      },
      "outputs": [
        {
          "output_type": "stream",
          "name": "stdout",
          "text": [
            "How old is this person?: 44\n",
            "True\n"
          ]
        }
      ],
      "source": [
        "#  00_choosing_returns.py\n",
        "\n",
        "#  Problem Statement:-\n",
        "#  There are times where we want to return different things from a function based on some condition. To practice this idea, imagine that\n",
        "#  we want to check if someone is an adult. We might check their age and return different things depending on how old they are!\n",
        "#  We've provided you with the ADULT_AGE variable which has the age a person is legally classified as an adult (in the United States).\n",
        "#  Fill out the is_adult(age) function, which returns True if the function takes an age that is greater than or equal to ADULT_AGE.\n",
        "#  If the function takes an age less than ADULT_AGE, return False instead.\n",
        "#  Here are two sample runs of the program, one for each return option (user input in bold italics):\n",
        "#  (Entered age is an adult age)\n",
        "#  How old is this person?: 35\n",
        "#  True\n",
        "#  (Entered age is not an adult age)\n",
        "#  How old is this person?: 7\n",
        "#  False\n",
        "\n",
        "# Define the adult age (for the USA)\n",
        "ADULT_AGE = 18\n",
        "\n",
        "def is_adult(age):\n",
        "    \"\"\"Returns True if the age is 18 or older, otherwise returns False.\"\"\"\n",
        "    return age >= ADULT_AGE  # Compare age with ADULT_AGE and return boolean result\n",
        "\n",
        "def main():\n",
        "    # Ask the user for their age\n",
        "    age = int(input(\"How old is this person?: \"))\n",
        "\n",
        "    # Call is_adult() function and print the result\n",
        "    print(is_adult(age))\n",
        "\n",
        "# Required line to run the program\n",
        "if __name__ == '__main__':\n",
        "    main()\n"
      ]
    },
    {
      "cell_type": "code",
      "source": [
        "#  01_greetings.py\n",
        "\n",
        "#  Problem Statement:-\n",
        "#  We've written a helper function for you called greet(name) which takes as input a string name and prints a greeting. Write some code\n",
        "#  in main() to get the user's name and then greet them, being sure to call the greet(name) helper function. Here's a sample run of the\n",
        "#  program (user input in bold italics):\n",
        "#  What's your name? Sophia\n",
        "#  Greetings Sophia!\n",
        "\n",
        "def greet(name):\n",
        "    \"\"\"Prints a greeting with the given name.\"\"\"\n",
        "    # Print a greeting message including the user's name\n",
        "    print(f\"Greetings {name}!\")\n",
        "\n",
        "def main():\n",
        "    # Ask the user for their name\n",
        "    name = input(\"What's your name? \")\n",
        "\n",
        "    # Call the greet function with the user's name\n",
        "    greet(name)\n",
        "\n",
        "# Required line to run the program if this file is the main script\n",
        "if __name__ == '__main__':\n",
        "    main()\n"
      ],
      "metadata": {
        "colab": {
          "base_uri": "https://localhost:8080/"
        },
        "id": "lWgn6k4bWBcH",
        "outputId": "ef3b4373-110e-4bfa-d20b-dd3b314ee8d3"
      },
      "execution_count": 2,
      "outputs": [
        {
          "output_type": "stream",
          "name": "stdout",
          "text": [
            "What's your name? Waqar\n",
            "Greetings Waqar!\n"
          ]
        }
      ]
    },
    {
      "cell_type": "code",
      "source": [
        "#  02_in_range.py\n",
        "\n",
        "#  Problem Statement:-\n",
        "#  Implement the following function which takes in 3 integers as parameters:\n",
        "#  def in_range(n, low, high) \"\"\" Returns True if n is between low & high, inclusive. high is guaranteed to be greater than low.\n",
        "\n",
        "def in_range(n, low, high):\n",
        "    \"\"\"Returns True if n is between low and high (inclusive).\"\"\"\n",
        "    # Check if n is greater than or equal to low and less than or equal to high\n",
        "    return low <= n <= high\n",
        "\n",
        "def main():\n",
        "    # Ask the user to input the number to check\n",
        "    n = int(input(\"Enter a number: \"))\n",
        "    # Ask the user for the lower bound\n",
        "    low = int(input(\"Enter the lower limit: \"))\n",
        "    # Ask the user for the upper bound\n",
        "    high = int(input(\"Enter the upper limit: \"))\n",
        "\n",
        "    # Call the in_range function and store the result\n",
        "    result = in_range(n, low, high)\n",
        "    # Print the result (True or False)\n",
        "    print(result)\n",
        "\n",
        "# Required line to execute main() when this script is run directly\n",
        "if __name__ == '__main__':\n",
        "    main()\n"
      ],
      "metadata": {
        "colab": {
          "base_uri": "https://localhost:8080/"
        },
        "id": "fBeNY_30WIWt",
        "outputId": "986e5402-8c89-4a24-e3ff-0c5a9d31f45d"
      },
      "execution_count": 3,
      "outputs": [
        {
          "output_type": "stream",
          "name": "stdout",
          "text": [
            "Enter a number: 108\n",
            "Enter the lower limit: 50\n",
            "Enter the upper limit: 100\n",
            "False\n"
          ]
        }
      ]
    },
    {
      "cell_type": "code",
      "source": [
        "#  03_in_stock.py\n",
        "\n",
        "#  Problem Statement:-\n",
        "#  Sophia has a fruit store. She has written a function num_in_stock which takes a string fruit as a parameter and returns how many of\n",
        "#  that fruit are in her inventory. Write code in main() which will: Prompt the user to enter a fruit (\"Enter a fruit: \")\n",
        "#  Call num_in_stock(fruit) to get the number of that fruit that Sophia has in stock. Print the number which are in stock if Sophia has\n",
        "#  that fruit in her inventory (there are more than 0 in stock)\n",
        "#  Print \"This fruit is not in stock.\" if Sophia has none of that fruit in her inventory.\n",
        "#  Here's two sample runs of the program (user input in bold italics):\n",
        "#  Enter a fruit: pear\n",
        "#  This fruit is in stock! Here is how many: 1000\n",
        "#  Enter a fruit: lychee\n",
        "#  This fruit is not in stock.\n",
        "\n",
        "# Function to check the stock of a given fruit\n",
        "def num_in_stock(fruit):\n",
        "    # Dictionary containing fruit names and their stock quantities\n",
        "    inventory = {\n",
        "        \"apple\": 500,\n",
        "        \"banana\": 300,\n",
        "        \"pear\": 1000,\n",
        "        \"orange\": 250,\n",
        "        \"mango\": 700\n",
        "    }\n",
        "    # Convert fruit name to lowercase and return stock count\n",
        "    # If fruit not found, return 0\n",
        "    return inventory.get(fruit.lower(), 0)\n",
        "\n",
        "def main():\n",
        "    # Ask user to enter the name of a fruit\n",
        "    fruit = input(\"Enter a fruit: \").strip()\n",
        "\n",
        "    # Get the stock count of that fruit\n",
        "    stock = num_in_stock(fruit)\n",
        "\n",
        "    # If the fruit is in stock, print message and quantity\n",
        "    if stock > 0:\n",
        "        print(\"This fruit is in stock! Here is how many:\")\n",
        "        print(stock)\n",
        "    else:\n",
        "        # If the fruit is not found or stock is 0, show this message\n",
        "        print(\"This fruit is not in stock.\")\n",
        "\n",
        "# Ensure main() runs only if the script is executed directly\n",
        "if __name__ == '__main__':\n",
        "    main()\n"
      ],
      "metadata": {
        "colab": {
          "base_uri": "https://localhost:8080/"
        },
        "id": "fzMqxYUYWXv7",
        "outputId": "4ab9f2c7-ab4a-489b-8f30-4b1340406ecc"
      },
      "execution_count": 4,
      "outputs": [
        {
          "output_type": "stream",
          "name": "stdout",
          "text": [
            "Enter a fruit: Apple\n",
            "This fruit is in stock! Here is how many:\n",
            "500\n"
          ]
        }
      ]
    },
    {
      "cell_type": "code",
      "source": [
        "#  04_multiple_returns.py\n",
        "\n",
        "#  Problem Statement:-\n",
        "#  There are times where you are working with lots of different data within a function that you want to return. While generally, we want\n",
        "#  to keep functions to have a precise purpose, sometimes that purpose just deals with multiple bits of data. To practice this, imagine\n",
        "#  we are working on a program where the user needs to enters data to sign up for a website. Fill out the get_user_data() function which:\n",
        "#  Asks the user for their first name and stores it in a variable\n",
        "#  Asks the user for their last name and stores it in a variable\n",
        "#  Asks the user for their email address and stores it in a variable\n",
        "#  Returns all three of these pieces of data in the order it was asked\n",
        "#  You can return multiple pieces of data by separating each piece with a comma in the return line.\n",
        "#  Here is an example run of the program:\n",
        "#  What is your first name?: Jane\n",
        "#  What is your last name?: Stanford\n",
        "#  What is your email address?: janestanford@stanford.edu\n",
        "#  Received the following user data: ('Jane', 'Stanford', 'janestanford@stanford.edu')\n",
        "#  (Note. This idea is called tuple packing/unpacking. We \"pack\" our return values into a single data structure called a tuple. We can\n",
        "#  then \"unpack\" these values back into our original values or leave them as a tuple.)\n",
        "\n",
        "# Function to get user data\n",
        "def get_user_data():\n",
        "    # Prompt user for first name and store it in a variable\n",
        "    first_name = input(\"What is your first name?: \").strip()\n",
        "\n",
        "    # Prompt user for last name and store it in a variable\n",
        "    last_name = input(\"What is your last name?: \").strip()\n",
        "\n",
        "    # Prompt user for email address and store it in a variable\n",
        "    email = input(\"What is your email address?: \").strip()\n",
        "\n",
        "    # Return the collected data as a tuple (first_name, last_name, email)\n",
        "    return first_name, last_name, email\n",
        "\n",
        "def main():\n",
        "    # Call the function and store the returned tuple in 'user_data'\n",
        "    user_data = get_user_data()\n",
        "\n",
        "    # Display the collected data (tuple unpacked automatically here)\n",
        "    print(\"Received the following user data:\", user_data)\n",
        "\n",
        "# This ensures that the 'main' function runs when the script is executed\n",
        "if __name__ == '__main__':\n",
        "    main()\n",
        "\n"
      ],
      "metadata": {
        "colab": {
          "base_uri": "https://localhost:8080/"
        },
        "id": "MkDx3RhBWf6v",
        "outputId": "95949dd0-1040-416e-862f-b1045eed13ba"
      },
      "execution_count": 7,
      "outputs": [
        {
          "output_type": "stream",
          "name": "stdout",
          "text": [
            "What is your first name?: Waqar\n",
            "What is your last name?: Ahmed\n",
            "What is your email address?: fromwaqar@gmail.com\n",
            "Received the following user data: ('Waqar', 'Ahmed', 'fromwaqar@gmail.com')\n"
          ]
        }
      ]
    },
    {
      "cell_type": "code",
      "source": [
        "#  05_subtract_7.py\n",
        "\n",
        "#  Problem Statement:-\n",
        "#  Fill out the subtract_seven helper function to subtract 7 from num, and fill out the main() method to call the subtract_seven helper\n",
        "#  function! If you're stuck, revisit the add_five example from lecture.\n",
        "\n",
        "# Helper function to subtract 7 from a given number\n",
        "def subtract_seven(num):\n",
        "    return num - 7  # Subtracts 7 from the given number and returns the result\n",
        "\n",
        "def main():\n",
        "    # Ask the user for a number and convert it to an integer\n",
        "    number = int(input(\"Enter a number: \"))\n",
        "\n",
        "    # Call the subtract_seven function and store the result\n",
        "    result = subtract_seven(number)\n",
        "\n",
        "    # Print the result after subtracting 7\n",
        "    print(\"Result after subtracting 7:\", result)\n",
        "\n",
        "# This required line makes sure that the main() function runs when the script is executed\n",
        "if __name__ == '__main__':\n",
        "    main()\n"
      ],
      "metadata": {
        "colab": {
          "base_uri": "https://localhost:8080/"
        },
        "id": "8OJPpLNYWy9Y",
        "outputId": "cd86ac90-1ed5-44cf-a84f-4d0028a56c01"
      },
      "execution_count": 8,
      "outputs": [
        {
          "output_type": "stream",
          "name": "stdout",
          "text": [
            "Enter a number: 50\n",
            "Result after subtracting 7: 43\n"
          ]
        }
      ]
    }
  ]
}