{
  "nbformat": 4,
  "nbformat_minor": 0,
  "metadata": {
    "colab": {
      "provenance": [],
      "authorship_tag": "ABX9TyMbtyebwi4hRBc1GkgJn+gm",
      "include_colab_link": true
    },
    "kernelspec": {
      "name": "python3",
      "display_name": "Python 3"
    },
    "language_info": {
      "name": "python"
    }
  },
  "cells": [
    {
      "cell_type": "markdown",
      "metadata": {
        "id": "view-in-github",
        "colab_type": "text"
      },
      "source": [
        "<a href=\"https://colab.research.google.com/github/MWaqarAhmedGH/Assignment-4/blob/main/02_Lists.ipynb\" target=\"_parent\"><img src=\"https://colab.research.google.com/assets/colab-badge.svg\" alt=\"Open In Colab\"/></a>"
      ]
    },
    {
      "cell_type": "code",
      "execution_count": 1,
      "metadata": {
        "colab": {
          "base_uri": "https://localhost:8080/"
        },
        "id": "O6z_Do2C7bf-",
        "outputId": "f96a20b2-8e71-451b-b7bf-d54862889b69"
      },
      "outputs": [
        {
          "output_type": "stream",
          "name": "stdout",
          "text": [
            "List: [10, 20, 30, 40, 50]\n",
            "Sum of numbers: 150\n"
          ]
        }
      ],
      "source": [
        "#  01_add_many_number.py\n",
        "\n",
        "# Function to calculate the sum of a list of numbers\n",
        "def sum_of_numbers(numbers):\n",
        "    total = 0  # Initialize total sum to 0\n",
        "    for num in numbers:  # Loop through each number in the list\n",
        "        total += num     # Add each number to the total\n",
        "    return total         # Return the final total sum\n",
        "\n",
        "def main():\n",
        "    numbers_list = [10, 20, 30, 40, 50]  # Define a sample list of numbers\n",
        "    result = sum_of_numbers(numbers_list)  # Call the function and store the result\n",
        "    print(\"List:\", numbers_list)           # Print the original list\n",
        "    print(\"Sum of numbers:\", result)       # Print the calculated sum\n",
        "\n",
        "# Run the main function only if the script is executed directly\n",
        "if __name__ == '__main__':\n",
        "    main()\n"
      ]
    },
    {
      "cell_type": "code",
      "source": [
        "#  02_double_list.py\n",
        "\n",
        "def main():\n",
        "    # Initialize the list with original numbers\n",
        "    numbers = [1, 2, 3, 4]\n",
        "\n",
        "    # Loop through the list using index and double each element\n",
        "    for i in range(len(numbers)):\n",
        "        numbers[i] *= 2  # Multiply each element by 2 and update it in place\n",
        "\n",
        "    # Print the updated list\n",
        "    print(\"Doubled List:\", numbers)\n",
        "\n",
        "# Run the main function only if the script is executed directly\n",
        "if __name__ == '__main__':\n",
        "    main()\n"
      ],
      "metadata": {
        "colab": {
          "base_uri": "https://localhost:8080/"
        },
        "id": "k8WxbOk-7_yK",
        "outputId": "759fa942-2760-4337-8519-4d5116acc74e"
      },
      "execution_count": 3,
      "outputs": [
        {
          "output_type": "stream",
          "name": "stdout",
          "text": [
            "Doubled List: [2, 4, 6, 8]\n"
          ]
        }
      ]
    },
    {
      "cell_type": "code",
      "source": [
        "#  03_erase_canvas.py\n",
        "\n",
        "import tkinter as tk  # Import tkinter for GUI programming\n",
        "\n",
        "# Define canvas and grid cell sizes\n",
        "CANVAS_WIDTH = 400\n",
        "CANVAS_HEIGHT = 400\n",
        "CELL_SIZE = 40  # Each square (cell) in the grid will be 40x40 pixels\n",
        "\n",
        "def create_grid(canvas):\n",
        "    \"\"\"Creates a grid of blue rectangular cells on the canvas.\"\"\"\n",
        "    cells = []  # Store all grid cells (rectangles)\n",
        "    for row in range(0, CANVAS_HEIGHT, CELL_SIZE):  # Loop through rows\n",
        "        row_cells = []\n",
        "        for col in range(0, CANVAS_WIDTH, CELL_SIZE):  # Loop through columns\n",
        "            # Draw a blue rectangle cell\n",
        "            rect = canvas.create_rectangle(col, row, col + CELL_SIZE, row + CELL_SIZE, fill=\"blue\", outline=\"black\")\n",
        "            row_cells.append(rect)  # Add the rectangle to the current row\n",
        "        cells.append(row_cells)  # Add the row to the grid\n",
        "    return cells  # Return the 2D list of rectangles\n",
        "\n",
        "def erase(event):\n",
        "    \"\"\"Changes the color of the grid cell under the cursor to white.\"\"\"\n",
        "    x, y = event.x, event.y  # Get mouse coordinates\n",
        "    row = y // CELL_SIZE  # Determine which row the cursor is in\n",
        "    col = x // CELL_SIZE  # Determine which column the cursor is in\n",
        "\n",
        "    # If the cursor is within the grid boundaries\n",
        "    if 0 <= row < len(grid) and 0 <= col < len(grid[0]):\n",
        "        canvas.itemconfig(grid[row][col], fill=\"white\")  # Change that cell to white\n",
        "\n",
        "def main():\n",
        "    global canvas, grid  # Declare global so we can access inside erase()\n",
        "\n",
        "    root = tk.Tk()  # Create main application window\n",
        "    root.title(\"Eraser on Canvas\")  # Set window title\n",
        "\n",
        "    canvas = tk.Canvas(root, width=CANVAS_WIDTH, height=CANVAS_HEIGHT, bg=\"white\")  # Create canvas\n",
        "    canvas.pack()  # Add canvas to window\n",
        "\n",
        "    grid = create_grid(canvas)  # Draw the blue cell grid\n",
        "\n",
        "    canvas.bind(\"<B1-Motion>\", erase)  # Bind left-click + drag to erasing function\n",
        "\n",
        "    root.mainloop()  # Start the Tkinter event loop\n",
        "\n",
        "# Entry point of the script\n",
        "if __name__ == '__main__':\n",
        "    main()\n",
        "\n",
        "\n",
        "#  This program can not run in Google Colab but it can run in VS Code Editer"
      ],
      "metadata": {
        "id": "fCLJJY6a90sl"
      },
      "execution_count": null,
      "outputs": []
    },
    {
      "cell_type": "code",
      "source": [
        "#  04_flowing_with_data_structure.py\n",
        "\n",
        "def add_three_copies(my_list, data):\n",
        "    \"\"\" Adds three copies of data to the given list (mutable behavior). \"\"\"\n",
        "    my_list.append(data)  # Add first copy of data\n",
        "    my_list.append(data)  # Add second copy of data\n",
        "    my_list.append(data)  # Add third copy of data\n",
        "\n",
        "def main():\n",
        "    # Get message from user\n",
        "    message = input(\"Enter a message to copy: \")\n",
        "\n",
        "    # Create an empty list\n",
        "    my_list = []\n",
        "    print(\"List before:\", my_list)  # Show list before adding data\n",
        "\n",
        "    # Pass list and data to function (list is mutable, so changes stay)\n",
        "    add_three_copies(my_list, message)\n",
        "\n",
        "    # Show list after modification\n",
        "    print(\"List after:\", my_list)\n",
        "\n",
        "# Run the main function when script starts\n",
        "if __name__ == '__main__':\n",
        "    main()\n"
      ],
      "metadata": {
        "colab": {
          "base_uri": "https://localhost:8080/"
        },
        "id": "tMoD-enq-KBa",
        "outputId": "80e08041-5c25-4a80-dce5-0b81fb3c2f4f"
      },
      "execution_count": 8,
      "outputs": [
        {
          "output_type": "stream",
          "name": "stdout",
          "text": [
            "Enter a message to copy: This is the first message\n",
            "List before: []\n",
            "List after: ['This is the first message', 'This is the first message', 'This is the first message']\n"
          ]
        }
      ]
    },
    {
      "cell_type": "code",
      "source": [
        "#  05_get_first_element.py\n",
        "\n",
        "def get_first_element(lst):\n",
        "    \"\"\" Prints the first element of a given non-empty list. \"\"\"\n",
        "    print(\"The first element in the list is:\", lst[0])  # Access and print the first element\n",
        "\n",
        "def main():\n",
        "    # Ask user how many elements they want to input\n",
        "    n = int(input(\"Enter the number of elements in the list: \"))\n",
        "    lst = []  # Initialize empty list\n",
        "\n",
        "    # Take n inputs from user and add them to the list\n",
        "    for i in range(n):\n",
        "        element = input(f\"Enter element {i+1}: \")  # Prompt for each element\n",
        "        lst.append(element)  # Add element to list\n",
        "\n",
        "    # Call function to print the first element of the list\n",
        "    get_first_element(lst)\n",
        "\n",
        "# Run main() only if script is executed directly\n",
        "if __name__ == '__main__':\n",
        "    main()\n"
      ],
      "metadata": {
        "colab": {
          "base_uri": "https://localhost:8080/"
        },
        "id": "JVfaWdMB-btZ",
        "outputId": "8566a1e7-25b3-417c-bb71-4ff1df6b7ab5"
      },
      "execution_count": 9,
      "outputs": [
        {
          "output_type": "stream",
          "name": "stdout",
          "text": [
            "Enter the number of elements in the list: 4\n",
            "Enter element 1: 1\n",
            "Enter element 2: 2\n",
            "Enter element 3: 3\n",
            "Enter element 4: 4\n",
            "The first element in the list is: 1\n"
          ]
        }
      ]
    },
    {
      "cell_type": "code",
      "source": [
        "#  06_get_last_element.py\n",
        "\n",
        "def get_last_element(lst):\n",
        "    \"\"\" Prints the last element of a given non-empty list. \"\"\"\n",
        "    print(\"The last element in the list is:\", lst[-1])  # Negative indexing se last element access\n",
        "\n",
        "def main():\n",
        "    # User se list ke size ka input lena\n",
        "    n = int(input(\"Enter the number of elements in the list: \"))\n",
        "    lst = []  # Khaali list banai\n",
        "\n",
        "    # User se list ke elements input lena\n",
        "    for i in range(n):\n",
        "        element = input(f\"Enter element {i+1}: \")  # Har element ka input\n",
        "        lst.append(element)  # List me element ko add karna\n",
        "\n",
        "    # Last element ko print karne ke liye function call\n",
        "    get_last_element(lst)\n",
        "\n",
        "# Program ka entry point\n",
        "if __name__ == '__main__':\n",
        "    main()\n"
      ],
      "metadata": {
        "colab": {
          "base_uri": "https://localhost:8080/"
        },
        "id": "Dloseam6-n0u",
        "outputId": "c5089899-999d-49d9-8769-e68299fc4877"
      },
      "execution_count": 10,
      "outputs": [
        {
          "output_type": "stream",
          "name": "stdout",
          "text": [
            "Enter the number of elements in the list: 3\n",
            "Enter element 1: 1\n",
            "Enter element 2: 2\n",
            "Enter element 3: 3\n",
            "The last element in the list is: 3\n"
          ]
        }
      ]
    },
    {
      "cell_type": "code",
      "source": [
        "#  07_get_list.py\n",
        "\n",
        "def main():\n",
        "    lst = []  # User inputs store karne ke liye empty list\n",
        "\n",
        "    while True:\n",
        "        value = input(\"Enter a value: \")  # User se input lena\n",
        "\n",
        "        if value == \"\":  # Agar user ne kuch bhi nahi likha aur sirf Enter press kiya\n",
        "            break  # Loop se bahar nikal jao\n",
        "\n",
        "        lst.append(value)  # Input ko list me add karo\n",
        "\n",
        "    print(\"Here's the list:\", lst)  # Final list ko print karo\n",
        "\n",
        "# Program ka entry point\n",
        "if __name__ == '__main__':\n",
        "    main()\n"
      ],
      "metadata": {
        "colab": {
          "base_uri": "https://localhost:8080/"
        },
        "id": "3vi7QFBS-xNN",
        "outputId": "f6d25495-1d19-437d-896d-e017bb422d1d"
      },
      "execution_count": 11,
      "outputs": [
        {
          "output_type": "stream",
          "name": "stdout",
          "text": [
            "Enter a value: 50\n",
            "Enter a value: 80\n",
            "Enter a value: 90\n",
            "Enter a value: 100\n",
            "Enter a value: \n",
            "Here's the list: ['50', '80', '90', '100']\n"
          ]
        }
      ]
    },
    {
      "cell_type": "code",
      "source": [
        "#  08_get_shorten.py\n",
        "\n",
        "MAX_LENGTH = 3  # Define kiya gaya maximum allowed list length\n",
        "\n",
        "def shorten(lst):\n",
        "    # Jab tak list MAX_LENGTH se lambi hai, uske end se items hatao\n",
        "    while len(lst) > MAX_LENGTH:\n",
        "        removed_item = lst.pop()  # Last element list se hatao\n",
        "        print(\"Removed:\", removed_item)  # Removed item ko print karo\n",
        "\n",
        "def main():\n",
        "    lst = []  # Empty list to store user input\n",
        "\n",
        "    # User se number of elements lena\n",
        "    n = int(input(\"Enter number of elements in the list: \"))\n",
        "    for _ in range(n):\n",
        "        value = input(\"Enter a value: \")  # Har value input lo\n",
        "        lst.append(value)  # List me add karo\n",
        "\n",
        "    print(\"Original list:\", lst)  # Original list dikhana\n",
        "    shorten(lst)  # shorten function call karna\n",
        "    print(\"Shortened list:\", lst)  # Modified list print karna\n",
        "\n",
        "# Program ka entry point\n",
        "if __name__ == '__main__':\n",
        "    main()\n"
      ],
      "metadata": {
        "colab": {
          "base_uri": "https://localhost:8080/"
        },
        "id": "Xcvwpj6L--_Z",
        "outputId": "1f754fb0-13b9-4b55-8df3-fcc8cc80a9a7"
      },
      "execution_count": 12,
      "outputs": [
        {
          "output_type": "stream",
          "name": "stdout",
          "text": [
            "Enter number of elements in the list: 4\n",
            "Enter a value: 1\n",
            "Enter a value: 2\n",
            "Enter a value: 3\n",
            "Enter a value: 4\n",
            "Original list: ['1', '2', '3', '4']\n",
            "Removed: 4\n",
            "Shortened list: ['1', '2', '3']\n"
          ]
        }
      ]
    }
  ]
}