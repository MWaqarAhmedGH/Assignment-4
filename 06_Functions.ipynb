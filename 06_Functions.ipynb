{
  "nbformat": 4,
  "nbformat_minor": 0,
  "metadata": {
    "colab": {
      "provenance": [],
      "authorship_tag": "ABX9TyPqfyEZdgDlOi73tkhmO/zD",
      "include_colab_link": true
    },
    "kernelspec": {
      "name": "python3",
      "display_name": "Python 3"
    },
    "language_info": {
      "name": "python"
    }
  },
  "cells": [
    {
      "cell_type": "markdown",
      "metadata": {
        "id": "view-in-github",
        "colab_type": "text"
      },
      "source": [
        "<a href=\"https://colab.research.google.com/github/MWaqarAhmedGH/Assignment-4/blob/main/06_Functions.ipynb\" target=\"_parent\"><img src=\"https://colab.research.google.com/assets/colab-badge.svg\" alt=\"Open In Colab\"/></a>"
      ]
    },
    {
      "cell_type": "code",
      "execution_count": 1,
      "metadata": {
        "colab": {
          "base_uri": "https://localhost:8080/"
        },
        "id": "SjM9tF1Z3L4l",
        "outputId": "f55b7abb-8ced-42f5-b029-1beac2ad60a7"
      },
      "outputs": [
        {
          "output_type": "stream",
          "name": "stdout",
          "text": [
            "Enter the first number: 1\n",
            "Enter the second number: 2\n",
            "The average of 1.0 and 2.0 is: 1.5\n"
          ]
        }
      ],
      "source": [
        "#  00_average.py\n",
        "\n",
        "#  Problem Statement:-\n",
        "#  Write a function that takes two numbers and finds the average between the two.\n",
        "\n",
        "def find_average(num1, num2):\n",
        "    return (num1 + num2) / 2  # Calculate and return the average of two numbers\n",
        "\n",
        "def main():\n",
        "    # Taking input from the user\n",
        "    num1 = float(input(\"Enter the first number: \"))  # Get first number as float\n",
        "    num2 = float(input(\"Enter the second number: \"))  # Get second number as float\n",
        "\n",
        "    # Calculating and displaying the average\n",
        "    average = find_average(num1, num2)  # Call the function to compute average\n",
        "    print(f\"The average of {num1} and {num2} is: {average}\")  # Print the result\n",
        "\n",
        "# Required to execute the main function\n",
        "if __name__ == '__main__':\n",
        "    main()\n"
      ]
    },
    {
      "cell_type": "code",
      "source": [
        "#  01_chaotic_counting.py\n",
        "\n",
        "#  Problem Statement:-\n",
        "#  Fill out the chaotic_counting() function, which prints the numbers from 1 to 10, but with a catch. We've written a done() function\n",
        "#  which returns True with likelihood DONE_LIKELIHOOD -- at each number, before printing the number, you should call done() and check\n",
        "#  if it returns True or not. If done() returns True, we're done counting, and you should use a return statement to end the\n",
        "#  chaotic_counting() function execution and resume execution of main(), which will print \"I'm done.\". We've written main() for you --\n",
        "#  check it out! Notice that we'll only print \"I'm done\" from main() once chaotic_counting() is done with its execution.\n",
        "#  Here's a sample run of this program: I'm going to count until 10 or until I feel like stopping, whichever comes first. 1 2 3 I'm done.\n",
        "\n",
        "import random\n",
        "\n",
        "# Probability that done() returns True\n",
        "DONE_LIKELIHOOD = 0.2  # 20% chance that done() will return True\n",
        "\n",
        "def done():\n",
        "    \"\"\"Returns True with a probability of DONE_LIKELIHOOD\"\"\"\n",
        "    return random.random() < DONE_LIKELIHOOD  # Randomly returns True with probability of DONE_LIKELIHOOD\n",
        "\n",
        "def chaotic_counting():\n",
        "    \"\"\"Counts from 1 to 10, but stops early if done() returns True\"\"\"\n",
        "    for i in range(1, 11):  # Loop through numbers 1 to 10\n",
        "        if done():  # Check if done() returns True at each step\n",
        "            return  # If done() returns True, exit the function (stop counting)\n",
        "        print(i, end=\" \")  # Print the current number in the sequence without newline\n",
        "\n",
        "def main():\n",
        "    \"\"\"Main function to start the counting process\"\"\"\n",
        "    print(\"I'm going to count until 10 or until I feel like stopping, whichever comes first.\")\n",
        "    chaotic_counting()  # Start chaotic counting process\n",
        "    print(\"\\nI'm done.\")  # Print \"I'm done\" when chaotic_counting finishes\n",
        "\n",
        "# Execute the program when this script is run\n",
        "if __name__ == '__main__':\n",
        "    main()\n"
      ],
      "metadata": {
        "colab": {
          "base_uri": "https://localhost:8080/"
        },
        "id": "8IN8fK7G3eAp",
        "outputId": "e5a6a051-5a8d-484a-b7c3-f80a29c7f560"
      },
      "execution_count": 2,
      "outputs": [
        {
          "output_type": "stream",
          "name": "stdout",
          "text": [
            "I'm going to count until 10 or until I feel like stopping, whichever comes first.\n",
            "\n",
            "I'm done.\n"
          ]
        }
      ]
    },
    {
      "cell_type": "code",
      "source": [
        "#  02_count_even.py\n",
        "\n",
        "#  Problem Statement:-\n",
        "#  Fill out the function count_even(lst) which first populates a list by prompting the user for integers until they press\n",
        "#  enter (please use the prompt \"Enter an integer or press enter to stop: \"), and then prints the number of even numbers in the list.\n",
        "#  If you'd prefer to focus on the second task only, scroll down for our implementation of the first task!\n",
        "\n",
        "def count_even():\n",
        "    lst = []  # Initialize an empty list to store the integers entered by the user\n",
        "\n",
        "    # Taking input until the user presses Enter (no input)\n",
        "    while True:\n",
        "        user_input = input(\"Enter an integer or press enter to stop: \")\n",
        "\n",
        "        if user_input == \"\":  # If the user presses Enter without input, break the loop\n",
        "            break\n",
        "\n",
        "        try:\n",
        "            num = int(user_input)  # Convert the input to an integer\n",
        "            lst.append(num)  # Append the number to the list\n",
        "        except ValueError:\n",
        "            print(\"Invalid input. Please enter an integer.\")  # Handle non-integer inputs\n",
        "\n",
        "    # Count the even numbers in the list using a generator expression\n",
        "    even_count = sum(1 for num in lst if num % 2 == 0)  # Iterate through list and count even numbers\n",
        "\n",
        "    # Print the number of even numbers in the list\n",
        "    print(f\"Number of even numbers: {even_count}\")\n",
        "\n",
        "def main():\n",
        "    count_even()  # Call the count_even function to execute the process\n",
        "\n",
        "if __name__ == '__main__':\n",
        "    main()  # Entry point of the program\n"
      ],
      "metadata": {
        "colab": {
          "base_uri": "https://localhost:8080/"
        },
        "id": "w_SyHUJo33j5",
        "outputId": "25b9a9c6-3e11-4cd7-8c54-73058c063ec6"
      },
      "execution_count": 3,
      "outputs": [
        {
          "output_type": "stream",
          "name": "stdout",
          "text": [
            "Enter an integer or press enter to stop: 8\n",
            "Enter an integer or press enter to stop: 5\n",
            "Enter an integer or press enter to stop: 2\n",
            "Enter an integer or press enter to stop: \n",
            "Number of even numbers: 2\n"
          ]
        }
      ]
    },
    {
      "cell_type": "code",
      "source": [
        "#  04_double.py\n",
        "\n",
        "#  Problem Statement:-\n",
        "#  Fill out the double(num) function to return the result of multiplying num by 2. We've written a main() function for you which asks\n",
        "#  the user for a number, calls your code for double(num) , and prints the result. Here's a sample run of the\n",
        "#  program (user input in bold italics): Enter a number: 2 Double that is 4\n",
        "\n",
        "def double(num):\n",
        "    # This function takes a number and returns the result of multiplying it by 2\n",
        "    return num * 2\n",
        "\n",
        "def main():\n",
        "    # Prompt the user to input a number and convert it to an integer\n",
        "    num = int(input(\"\\033[94mEnter a number: \\033[0m\"))  # User input is displayed in blue color\n",
        "\n",
        "    # Call the double function to get the doubled value of the entered number\n",
        "    result = double(num)\n",
        "\n",
        "    # Print the result of doubling the number\n",
        "    print(f\"Double that is {result}\")\n",
        "\n",
        "# This block ensures that main() runs when the file is executed directly\n",
        "if __name__ == '__main__':\n",
        "    main()\n"
      ],
      "metadata": {
        "colab": {
          "base_uri": "https://localhost:8080/"
        },
        "id": "thYWELph3_vJ",
        "outputId": "0c113288-087d-4e91-b5dd-fbefb09ffe5f"
      },
      "execution_count": 4,
      "outputs": [
        {
          "output_type": "stream",
          "name": "stdout",
          "text": [
            "\u001b[94mEnter a number: \u001b[0m6\n",
            "Double that is 12\n"
          ]
        }
      ]
    },
    {
      "cell_type": "code",
      "source": [
        "#  05_get_name.py\n",
        "\n",
        "#  Problem Statement:-\n",
        "#  Fill out the get_name() function to return your name as a string! We've written a main() function for you which calls your function to\n",
        "#  retrieve your name and then prints it in a greeting. Here's a sample run of the program where the name we've decided to return is\n",
        "#  Sophia (the autograder expects the returned name to be Sophia): Howdy Sophia ! 🤠\n",
        "\n",
        "def get_name():\n",
        "    # This function returns the name \"Sophia\" as a string\n",
        "    return \"Sophia\"\n",
        "\n",
        "def main():\n",
        "    # Call the get_name() function to retrieve the name\n",
        "    name = get_name()\n",
        "\n",
        "    # Print a greeting using the retrieved name\n",
        "    print(f\"Howdy {name} ! 🤠\")\n",
        "\n",
        "# This block ensures that main() runs when the file is executed directly\n",
        "if __name__ == '__main__':\n",
        "    main()\n"
      ],
      "metadata": {
        "colab": {
          "base_uri": "https://localhost:8080/"
        },
        "id": "O5l7wvdk-6jS",
        "outputId": "560b87b9-b708-42b7-8139-8bca63fcbf89"
      },
      "execution_count": 5,
      "outputs": [
        {
          "output_type": "stream",
          "name": "stdout",
          "text": [
            "Howdy Sophia ! 🤠\n"
          ]
        }
      ]
    },
    {
      "cell_type": "code",
      "source": [
        "#  06_is_odd.py\n",
        "\n",
        "#  Problem Statement\n",
        "#  10 even 11 odd 12 even 13 odd 14 even 15 odd 16 even 17 odd 18 even 19 odd\n",
        "\n",
        "def main():\n",
        "    # Loop through numbers from 10 to 19 (inclusive)\n",
        "    for num in range(10, 20):\n",
        "        # Check if the number is even by using modulus operator\n",
        "        if num % 2 == 0:\n",
        "            # If the number is even, print it with the word \"even\"\n",
        "            print(f\"{num} even\")\n",
        "        else:\n",
        "            # If the number is odd, print it with the word \"odd\"\n",
        "            print(f\"{num} odd\")\n",
        "\n",
        "# Ensure the main() function runs when the script is executed\n",
        "if __name__ == '__main__':\n",
        "    main()\n"
      ],
      "metadata": {
        "colab": {
          "base_uri": "https://localhost:8080/"
        },
        "id": "FYfYV_v1Riq7",
        "outputId": "4c02a79c-9195-4151-e3da-e2a00d709f80"
      },
      "execution_count": 6,
      "outputs": [
        {
          "output_type": "stream",
          "name": "stdout",
          "text": [
            "10 even\n",
            "11 odd\n",
            "12 even\n",
            "13 odd\n",
            "14 even\n",
            "15 odd\n",
            "16 even\n",
            "17 odd\n",
            "18 even\n",
            "19 odd\n"
          ]
        }
      ]
    },
    {
      "cell_type": "code",
      "source": [
        "#  07_print_divisor.py\n",
        "\n",
        "#  Problem Statement:-\n",
        "#  Write the helper function print_divisors(num), which takes in a number and prints all of its divisors (all the numbers from 1 to\n",
        "#  num inclusive that num can be cleanly divided by (there is no remainder to the division). Don't forget to call your function in\n",
        "#  main()! Here's a sample run (user input is in blue): Enter a number: 12 Here are the divisors of 12 1 2 3 4 6 12\n",
        "\n",
        "def print_divisors(num):\n",
        "    # Loop from 1 to num (inclusive) to find divisors\n",
        "    for i in range(1, num + 1):\n",
        "        if num % i == 0:\n",
        "            print(i, end=' ')  # Print each divisor on the same line\n",
        "    print()  # Print a newline after all divisors\n",
        "\n",
        "def main():\n",
        "    # Get user input\n",
        "    num = int(input(\"Enter a number: \"))\n",
        "    print(f\"Here are the divisors of {num}\")\n",
        "    print_divisors(num)\n",
        "\n",
        "# This provided line is required at the end of\n",
        "# Python file to call the main() function.\n",
        "if __name__ == '__main__':\n",
        "    main()\n"
      ],
      "metadata": {
        "colab": {
          "base_uri": "https://localhost:8080/"
        },
        "id": "TXeSWsBzSbET",
        "outputId": "3048f12f-5667-4618-bf56-e3fb8135bf74"
      },
      "execution_count": 7,
      "outputs": [
        {
          "output_type": "stream",
          "name": "stdout",
          "text": [
            "Enter a number: 1\n",
            "Here are the divisors of 1\n",
            "1 \n"
          ]
        }
      ]
    },
    {
      "cell_type": "code",
      "source": [
        "#  08_print_multiple.py\n",
        "\n",
        "#  Problem Statement:-\n",
        "#  Fill out print_multiple(message, repeats), which takes as parameters a string message to print, and an integer repeats number of\n",
        "#  times to print message. We've written the main() function for you, which prompts the user for a message and a number of repeats.\n",
        "#  Here's a sample run of the program (user input is in blue): Please type a message: Hello! Enter a number of times to repeat your\n",
        "#  message: 6 Hello! Hello! Hello! Hello! Hello! Hello!\n",
        "\n",
        "def print_multiple(message, repeats):\n",
        "    # Loop the given number of times\n",
        "    for _ in range(repeats):\n",
        "        print(message, end=' ')  # Print message on the same line with a space\n",
        "\n",
        "def main():\n",
        "    # Get message input from user\n",
        "    message = input(\"Please type a message: \")\n",
        "    # Get number of times to repeat\n",
        "    repeats = int(input(\"Enter a number of times to repeat your message: \"))\n",
        "    print_multiple(message, repeats)  # Call function to print the message\n",
        "\n",
        "# Standard entry point for Python programs\n",
        "if __name__ == '__main__':\n",
        "    main()\n"
      ],
      "metadata": {
        "colab": {
          "base_uri": "https://localhost:8080/"
        },
        "id": "jpCQ47zBSikr",
        "outputId": "9eae5003-be92-4e74-ced7-df04f77e5c34"
      },
      "execution_count": 8,
      "outputs": [
        {
          "output_type": "stream",
          "name": "stdout",
          "text": [
            "Please type a message: 2\n",
            "Enter a number of times to repeat your message: 4\n",
            "2 2 2 2 "
          ]
        }
      ]
    },
    {
      "cell_type": "code",
      "source": [
        "#  09_sentence_generator.py\n",
        "\n",
        "#  Problem Statement:-\n",
        "#  Implement the helper function make_sentence(word, part_of_speech) which will take a string word and an integer part_of_speech as\n",
        "#  parameters and, depending on the part of speech, place the word into one of three sentence templates (or one from your imagination!):\n",
        "#  If part_of_speech is 0, we will assume the word is a noun and use the template: \"I am excited to add this ____ to my vast collection\n",
        "#  of them!\" If part_of_speech is 1, we will assume the word is a verb use the template: \"It's so nice outside today it makes me want\n",
        "#  to ____!\" If part_of_speech is 2, we will assume the word is an adjective and use the template: \"Looking out my window, the sky is\n",
        "#  big and ____!\" make_sentence(word, part_of_speech) should not return anything, just print the correct sentence with the word filled\n",
        "#  in the blank. Here's a sample run of the program (user input is in blue): Please type a noun, verb, or adjective: groovy Is this a\n",
        "#  noun, verb, or adjective? Type 0 for noun, 1 for verb, 2 for adjective: 2 Looking out my window, the sky is big and groovy!\n",
        "\n",
        "def make_sentence(word: str, part_of_speech: int):\n",
        "    if part_of_speech == 0:\n",
        "        print(f\"I am excited to add this {word} to my vast collection of them!\")\n",
        "    elif part_of_speech == 1:\n",
        "        print(f\"It's so nice outside today it makes me want to {word}!\")\n",
        "    elif part_of_speech == 2:\n",
        "        print(f\"Looking out my window, the sky is big and {word}!\")\n",
        "    else:\n",
        "        print(\"Invalid choice! Please enter 0 for noun, 1 for verb, or 2 for adjective.\")\n",
        "\n",
        "def main():\n",
        "    word = input(\"Please type a noun, verb, or adjective: \")\n",
        "\n",
        "    # Input validation to ensure user enters a number (0, 1, or 2)\n",
        "    while True:\n",
        "        part_input = input(\"Is this a noun, verb, or adjective? Type 0 for noun, 1 for verb, 2 for adjective: \")\n",
        "        if part_input in [\"0\", \"1\", \"2\"]:\n",
        "            part_of_speech = int(part_input)\n",
        "            break\n",
        "        else:\n",
        "            print(\"Invalid input. Please type 0 for noun, 1 for verb, or 2 for adjective.\")\n",
        "\n",
        "    make_sentence(word, part_of_speech)\n",
        "\n",
        "if __name__ == \"__main__\":\n",
        "    main()\n",
        "\n"
      ],
      "metadata": {
        "colab": {
          "base_uri": "https://localhost:8080/"
        },
        "id": "v8ztVamQUZ53",
        "outputId": "90c3895e-d3de-4344-c8d9-3f55e58d46c0"
      },
      "execution_count": 10,
      "outputs": [
        {
          "output_type": "stream",
          "name": "stdout",
          "text": [
            "Please type a noun, verb, or adjective: Adjective\n",
            "Is this a noun, verb, or adjective? Type 0 for noun, 1 for verb, 2 for adjective: 2\n",
            "Looking out my window, the sky is big and Adjective!\n"
          ]
        }
      ]
    },
    {
      "cell_type": "code",
      "source": [
        "#  10_print_ones_digit.py\n",
        "\n",
        "#  Problem Statement:-\n",
        "#  Write a function called print_ones_digit , which takes as a parameter an integer num and prints its ones digit.\n",
        "#  The modulo (remainder) operator, %, should be helpful to you here. Call your function from main()!\n",
        "#  Here's a sample run (user input is in blue): Enter a number: 42 The ones digit is 2\n",
        "\n",
        "def print_ones_digit(num):\n",
        "    # Use modulo operator to get the ones digit\n",
        "    print(\"The ones digit is\", num % 10)\n",
        "\n",
        "def main():\n",
        "    # Get an integer input from the user\n",
        "    num = int(input(\"Enter a number: \"))\n",
        "    # Call the helper function to print ones digit\n",
        "    print_ones_digit(num)\n",
        "\n",
        "# Ensure main() runs when the script is executed directly\n",
        "if __name__ == '__main__':\n",
        "    main()\n"
      ],
      "metadata": {
        "colab": {
          "base_uri": "https://localhost:8080/"
        },
        "id": "fGNzpTS_UgVm",
        "outputId": "526a6ee2-6e5c-4c92-a22c-bce92286b02f"
      },
      "execution_count": 12,
      "outputs": [
        {
          "output_type": "stream",
          "name": "stdout",
          "text": [
            "Enter a number: 550\n",
            "The ones digit is 0\n"
          ]
        }
      ]
    }
  ]
}