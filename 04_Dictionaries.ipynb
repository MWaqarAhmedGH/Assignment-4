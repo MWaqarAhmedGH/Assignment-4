{
  "nbformat": 4,
  "nbformat_minor": 0,
  "metadata": {
    "colab": {
      "provenance": [],
      "authorship_tag": "ABX9TyPCoF2j0ov1fYIndrnPN/+p",
      "include_colab_link": true
    },
    "kernelspec": {
      "name": "python3",
      "display_name": "Python 3"
    },
    "language_info": {
      "name": "python"
    }
  },
  "cells": [
    {
      "cell_type": "markdown",
      "metadata": {
        "id": "view-in-github",
        "colab_type": "text"
      },
      "source": [
        "<a href=\"https://colab.research.google.com/github/MWaqarAhmedGH/Assignment-4/blob/main/04_Dictionaries.ipynb\" target=\"_parent\"><img src=\"https://colab.research.google.com/assets/colab-badge.svg\" alt=\"Open In Colab\"/></a>"
      ]
    },
    {
      "cell_type": "code",
      "execution_count": 1,
      "metadata": {
        "colab": {
          "base_uri": "https://localhost:8080/"
        },
        "id": "Bs_xtA3TkDY2",
        "outputId": "a107c8e3-8c12-46e8-f0a7-b90c2f0b9b3f"
      },
      "outputs": [
        {
          "output_type": "stream",
          "name": "stdout",
          "text": [
            "\u001b[94mEnter a number (or press Enter to stop): \u001b[0m10\n",
            "\u001b[94mEnter a number (or press Enter to stop): \u001b[0m18\n",
            "\u001b[94mEnter a number (or press Enter to stop): \u001b[0m20\n",
            "\u001b[94mEnter a number (or press Enter to stop): \u001b[0m50\n",
            "\u001b[94mEnter a number (or press Enter to stop): \u001b[0m100\n",
            "\u001b[94mEnter a number (or press Enter to stop): \u001b[0m\n",
            "\n",
            "Number occurrences:\n",
            "10 appears 1 times.\n",
            "18 appears 1 times.\n",
            "20 appears 1 times.\n",
            "50 appears 1 times.\n",
            "100 appears 1 times.\n"
          ]
        }
      ],
      "source": [
        "#  00_count_nums.py\n",
        "\n",
        "def main():\n",
        "    # Dictionary to store the count of numbers\n",
        "    num_counts = {}  # num_counts dictionary to keep track of each number's frequency\n",
        "\n",
        "    while True:\n",
        "        # Taking input from user, text color is blue\n",
        "        user_input = input(\"\\033[94mEnter a number (or press Enter to stop): \\033[0m\")  # Blue text\n",
        "\n",
        "        # Stop input if user presses Enter without typing anything\n",
        "        if user_input == \"\":  # If user presses enter without input, exit the loop\n",
        "            break\n",
        "\n",
        "        # Convert input to an integer\n",
        "        number = int(user_input)  # Convert the input to an integer\n",
        "\n",
        "        # Increase count in dictionary\n",
        "        if number in num_counts:  # If number is already in dictionary, increase count\n",
        "            num_counts[number] += 1\n",
        "        else:\n",
        "            num_counts[number] = 1  # If number is not in dictionary, initialize count to 1\n",
        "\n",
        "    # Print the count of each number\n",
        "    print(\"\\nNumber occurrences:\")  # Print the header for number occurrences\n",
        "    for num, count in num_counts.items():  # Iterate through the dictionary\n",
        "        print(f\"{num} appears {count} times.\")  # Print the count of each number\n",
        "\n",
        "# Required line to run the main() function\n",
        "if __name__ == '__main__':\n",
        "    main()  # Call main function to execute the program\n"
      ]
    },
    {
      "cell_type": "code",
      "source": [
        "#  01_phonebook.py\n",
        "\n",
        "def read_phone_numbers():\n",
        "    phonebook = {}  # Empty dictionary to store name-number pairs\n",
        "\n",
        "    while True:\n",
        "        name = input(\"Name: \")  # Ask user to enter name\n",
        "        if name == \"\":  # Stop if input is empty\n",
        "            break\n",
        "        number = input(\"Number: \")  # Ask user to enter number\n",
        "        phonebook[name] = number  # Save name and number in dictionary\n",
        "\n",
        "    return phonebook  # Return the completed phonebook\n",
        "\n",
        "\n",
        "def print_phonebook(phonebook):\n",
        "    # Print all entries in the phonebook\n",
        "    for name in phonebook:\n",
        "        print(str(name) + \" -> \" + str(phonebook[name]))  # Format: name -> number\n",
        "\n",
        "\n",
        "def lookup_number(phonebook):\n",
        "    # Let user look up numbers by name\n",
        "    while True:\n",
        "        name = input(\"Enter name to lookup: \")  # Ask for name\n",
        "        if name == \"\":  # Exit loop if input is empty\n",
        "            break\n",
        "        if name not in phonebook:  # If name not found\n",
        "            print(name + \" is not in the phonebook\")\n",
        "        else:\n",
        "            print(phonebook[name])  # Print the associated number\n",
        "\n",
        "\n",
        "def main():\n",
        "    phonebook = read_phone_numbers()  # Step 1: Read contacts\n",
        "    print_phonebook(phonebook)        # Step 2: Print all contacts\n",
        "    lookup_number(phonebook)          # Step 3: Search contacts\n",
        "\n",
        "\n",
        "# Required to start the program\n",
        "if __name__ == '__main__':\n",
        "    main()\n"
      ],
      "metadata": {
        "colab": {
          "base_uri": "https://localhost:8080/"
        },
        "id": "1PJPWUJ0kp6j",
        "outputId": "50b4f19b-361c-43db-daa2-2d272e8c8aa8"
      },
      "execution_count": 2,
      "outputs": [
        {
          "name": "stdout",
          "output_type": "stream",
          "text": [
            "Name: Waqar\n",
            "Number: 03453992567\n",
            "Name: \n",
            "Waqar -> 03453992567\n",
            "Enter name to lookup: \n"
          ]
        }
      ]
    },
    {
      "cell_type": "code",
      "source": [
        "#  02_pop_up_shop.py\n",
        "\n",
        "def main():\n",
        "    # Dictionary storing fruit prices (per unit)\n",
        "    fruit_prices = {\n",
        "        \"apple\": 3.5,\n",
        "        \"durian\": 15.0,\n",
        "        \"jackfruit\": 20.0,\n",
        "        \"kiwi\": 2.5,\n",
        "        \"rambutan\": 5.0,\n",
        "        \"mango\": 7.0\n",
        "    }\n",
        "\n",
        "    total_cost = 0  # Initialize total cost\n",
        "\n",
        "    # Loop through each fruit in the dictionary\n",
        "    for fruit, price in fruit_prices.items():\n",
        "        # Ask user how many of the current fruit they want\n",
        "        quantity = int(input(f\"How many ({fruit}) do you want?: \"))\n",
        "\n",
        "        # Add the cost of this fruit to total\n",
        "        total_cost += quantity * price\n",
        "\n",
        "    # Print the total cost formatted to 2 decimal places\n",
        "    print(f\"\\nYour total is ${total_cost:.2f}\")\n",
        "\n",
        "# Required to run the program\n",
        "if __name__ == '__main__':\n",
        "    main()\n"
      ],
      "metadata": {
        "colab": {
          "base_uri": "https://localhost:8080/"
        },
        "id": "8i07cVqioQYN",
        "outputId": "a05d6c75-756a-4f9d-f26d-1831464b616a"
      },
      "execution_count": 3,
      "outputs": [
        {
          "output_type": "stream",
          "name": "stdout",
          "text": [
            "How many (apple) do you want?: 5\n",
            "How many (durian) do you want?: 4\n",
            "How many (jackfruit) do you want?: 3\n",
            "How many (kiwi) do you want?: 2\n",
            "How many (rambutan) do you want?: 1\n",
            "How many (mango) do you want?: 100\n",
            "\n",
            "Your total is $847.50\n"
          ]
        }
      ]
    },
    {
      "cell_type": "code",
      "source": [
        "#  03_powerful_password.py\n",
        "\n",
        "import hashlib  # Secure hashing library import\n",
        "\n",
        "def hash_password(password):\n",
        "    \"\"\"Returns the SHA-256 hash of the given password.\"\"\"\n",
        "    return hashlib.sha256(password.encode()).hexdigest()  # Encode and hash the password\n",
        "\n",
        "def login(email, password_to_check, stored_logins):\n",
        "    \"\"\"\n",
        "    Checks if the given email's stored password hash matches the hash of the password_to_check.\n",
        "    Returns True if the login is successful, else False.\n",
        "    \"\"\"\n",
        "    if email in stored_logins:  # Check if the email exists in the stored logins\n",
        "        stored_hash = stored_logins[email]  # Get the stored hash for the email\n",
        "        return stored_hash == hash_password(password_to_check)  # Compare stored hash with input password's hash\n",
        "    return False  # Email not found in stored logins\n",
        "\n",
        "def main():\n",
        "    # Dictionary storing emails with their hashed passwords\n",
        "    stored_logins = {\n",
        "        \"user@example.com\": hash_password(\"securepassword123\"),\n",
        "        \"kaladi@dev.com\": hash_password(\"mysecretpass\"),\n",
        "    }\n",
        "\n",
        "    # Get email and password input from user\n",
        "    email = input(\"Enter your email: \")\n",
        "    password = input(\"Enter your password: \")\n",
        "\n",
        "    # Attempt login and show result\n",
        "    if login(email, password, stored_logins):\n",
        "        print(\"Login successful! ✅\")\n",
        "    else:\n",
        "        print(\"Login failed! ❌ Incorrect email or password.\")\n",
        "\n",
        "# Run the main function if script is executed directly\n",
        "if __name__ == '__main__':\n",
        "    main()\n"
      ],
      "metadata": {
        "colab": {
          "base_uri": "https://localhost:8080/"
        },
        "id": "JMXof86Wolpd",
        "outputId": "51086136-b3e8-43e1-ec0c-6e6b17a0ea74"
      },
      "execution_count": 4,
      "outputs": [
        {
          "output_type": "stream",
          "name": "stdout",
          "text": [
            "Enter your email: fromwaqar@gmail.com\n",
            "Enter your password: password1982@A\n",
            "Login failed! ❌ Incorrect email or password.\n"
          ]
        }
      ]
    }
  ]
}