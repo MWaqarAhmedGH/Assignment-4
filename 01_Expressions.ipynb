{
  "nbformat": 4,
  "nbformat_minor": 0,
  "metadata": {
    "colab": {
      "provenance": [],
      "authorship_tag": "ABX9TyNgsAD0jC1zHXUe4Jr5BgOp",
      "include_colab_link": true
    },
    "kernelspec": {
      "name": "python3",
      "display_name": "Python 3"
    },
    "language_info": {
      "name": "python"
    }
  },
  "cells": [
    {
      "cell_type": "markdown",
      "metadata": {
        "id": "view-in-github",
        "colab_type": "text"
      },
      "source": [
        "<a href=\"https://colab.research.google.com/github/MWaqarAhmedGH/Assignment-4/blob/main/01_Expressions.ipynb\" target=\"_parent\"><img src=\"https://colab.research.google.com/assets/colab-badge.svg\" alt=\"Open In Colab\"/></a>"
      ]
    },
    {
      "cell_type": "code",
      "execution_count": 1,
      "metadata": {
        "colab": {
          "base_uri": "https://localhost:8080/"
        },
        "id": "iEuTk4_c109M",
        "outputId": "9d8df1b9-d351-4da5-8496-ce1476c458c4"
      },
      "outputs": [
        {
          "output_type": "stream",
          "name": "stdout",
          "text": [
            "die1 in main() starts as: 10\n",
            "Die 1: 6, Die 2: 5 → Total: 11\n",
            "die1 in main() is still: 10\n",
            "Die 1: 3, Die 2: 6 → Total: 9\n",
            "die1 in main() is still: 10\n",
            "Die 1: 6, Die 2: 4 → Total: 10\n",
            "die1 in main() is still: 10\n"
          ]
        }
      ],
      "source": [
        "#  01_dicesimulator.py\n",
        "\n",
        "# dicesimulator: Simulate rolling 2 dice, 3 times. Prints the results of each die roll. This program is used to show how variable scope works.\n",
        "\n",
        "import random  # Import the random module for dice rolls\n",
        "\n",
        "NUM_SIDES = 6  # Constant representing the number of sides on a die\n",
        "\n",
        "# Function to simulate rolling two dice\n",
        "def roll_dice():\n",
        "\n",
        "    die1 = random.randint(1, NUM_SIDES)  # Roll die 1\n",
        "    die2 = random.randint(1, NUM_SIDES)  # Roll die 2\n",
        "\n",
        "    total = die1 + die2  # Calculate the total of both dice\n",
        "\n",
        "    print(f\"Die 1: {die1}, Die 2: {die2} → Total: {total}\")\n",
        "\n",
        "# Main function to control the flow\n",
        "def main():\n",
        "\n",
        "    die1 = 10  # Local variable die1 in main (not related to die1 in roll_dice)\n",
        "\n",
        "    print(f\"die1 in main() starts as: {die1}\")\n",
        "\n",
        "    # Roll the dice three times\n",
        "    for _ in range(3):\n",
        "        roll_dice()\n",
        "\n",
        "        # die1 in main remains unchanged, showing variable scope\n",
        "        print(f\"die1 in main() is still: {die1}\")\n",
        "\n",
        "# Run the program if this file is executed directly\n",
        "if __name__ == '__main__':\n",
        "    main()\n"
      ]
    },
    {
      "cell_type": "code",
      "source": [
        "#  02_e=mc2.py\n",
        "\n",
        "C = 299792458  # Speed of light in meters per second (m/s)\n",
        "\n",
        "def main():\n",
        "    # Get mass in kilograms from the user\n",
        "    mass_in_kg = float(input(\"Enter kilos of mass: \"))\n",
        "\n",
        "    # Calculate the energy in joules using Einstein's equation (E = mc^2)\n",
        "    energy_in_joules = mass_in_kg * (C ** 2)\n",
        "\n",
        "    # Display the formula and results\n",
        "    print(\"e = m * C^2...\")  # Display the equation\n",
        "    print(f\"m = {mass_in_kg} kg\")  # Show the input mass\n",
        "    print(f\"C = {C} m/s\")  # Show the speed of light\n",
        "    print(f\"{energy_in_joules} joules of energy!\")  # Display the calculated energy\n",
        "\n",
        "# Run the main function if this script is executed directly\n",
        "if __name__ == '__main__':\n",
        "    main()\n"
      ],
      "metadata": {
        "colab": {
          "base_uri": "https://localhost:8080/"
        },
        "id": "Pg41la-a2l6A",
        "outputId": "3425306d-9f07-4a2e-e014-fe63fc84b82c"
      },
      "execution_count": 2,
      "outputs": [
        {
          "output_type": "stream",
          "name": "stdout",
          "text": [
            "Enter kilos of mass: 50\n",
            "e = m * C^2...\n",
            "m = 50.0 kg\n",
            "C = 299792458 m/s\n",
            "4.493775893684088e+18 joules of energy!\n"
          ]
        }
      ]
    },
    {
      "cell_type": "code",
      "source": [
        "#  03_feet_to_inches.py\n",
        "\n",
        "INCHES_IN_FOOT = 12  # 1 foot = 12 inches (conversion factor)\n",
        "\n",
        "def main():\n",
        "    # Prompt the user to enter the number of feet\n",
        "    feet = float(input(\"Enter number of feet: \"))\n",
        "\n",
        "    # Convert feet to inches using the conversion factor\n",
        "    inches = feet * INCHES_IN_FOOT\n",
        "\n",
        "    # Display the result in inches\n",
        "    print(f\"That is {inches} inches!\")\n",
        "\n",
        "# Run the main function if this script is executed directly\n",
        "if __name__ == '__main__':\n",
        "    main()\n"
      ],
      "metadata": {
        "colab": {
          "base_uri": "https://localhost:8080/"
        },
        "id": "XxUuhlqY2t0l",
        "outputId": "be4e83ce-16b5-41e6-d146-5dfa83ce5af7"
      },
      "execution_count": 3,
      "outputs": [
        {
          "output_type": "stream",
          "name": "stdout",
          "text": [
            "Enter number of feet: 80\n",
            "That is 960.0 inches!\n"
          ]
        }
      ]
    },
    {
      "cell_type": "code",
      "source": [
        "#  04_pythagorean_theorem.py\n",
        "\n",
        "import math  # Importing math module for square root calculation\n",
        "\n",
        "def main():\n",
        "    # Prompt the user to enter the lengths of the two perpendicular sides (AB and AC)\n",
        "    ab = float(input(\"\\033[1m\\033[3mEnter the length of AB:\\033[0m \"))\n",
        "    ac = float(input(\"\\033[1m\\033[3mEnter the length of AC:\\033[0m \"))\n",
        "\n",
        "    # Calculate the length of the hypotenuse (BC) using the Pythagorean theorem\n",
        "    bc = math.sqrt(ab**2 + ac**2)\n",
        "\n",
        "    # Output the result, which is the length of the hypotenuse (BC)\n",
        "    print(f\"The length of BC (the hypotenuse) is: {bc}\")\n",
        "\n",
        "# Run the main function if this script is executed directly\n",
        "if __name__ == '__main__':\n",
        "    main()\n"
      ],
      "metadata": {
        "colab": {
          "base_uri": "https://localhost:8080/"
        },
        "id": "_SLn_BkL22zO",
        "outputId": "5a414821-e1de-40bd-c602-74843a66c17c"
      },
      "execution_count": 4,
      "outputs": [
        {
          "output_type": "stream",
          "name": "stdout",
          "text": [
            "\u001b[1m\u001b[3mEnter the length of AB:\u001b[0m 24\n",
            "\u001b[1m\u001b[3mEnter the length of AC:\u001b[0m 30\n",
            "The length of BC (the hypotenuse) is: 38.41874542459709\n"
          ]
        }
      ]
    },
    {
      "cell_type": "code",
      "source": [
        "#  05_remainder_division.py\n",
        "\n",
        "def main():\n",
        "    # Get first integer input from the user (the number to be divided)\n",
        "    num1: int = int(input(\"\\033[1;3mPlease enter an integer to be divided:\\033[0m \"))\n",
        "\n",
        "    # Get second integer input from the user (the number to divide by)\n",
        "    num2: int = int(input(\"\\033[1;3mPlease enter an integer to divide by:\\033[0m \"))\n",
        "\n",
        "    # Calculate the quotient using integer division (//) Exxample: 5 // 2 = 2 (quotient)\n",
        "    quotient: int = num1 // num2\n",
        "\n",
        "    # Calculate the remainder using modulo operator (%)\n",
        "    remainder: int = num1 % num2\n",
        "\n",
        "    # Print the result in the required format\n",
        "    print(f\"The result of this division is {quotient} with a remainder of {remainder}\")\n",
        "\n",
        "# Check if the script is being run directly\n",
        "if __name__ == '__main__':\n",
        "    main()\n"
      ],
      "metadata": {
        "colab": {
          "base_uri": "https://localhost:8080/"
        },
        "id": "G3DQARNe3H_q",
        "outputId": "24ae7053-4453-4b8d-8c5f-a25d0fcda601"
      },
      "execution_count": 5,
      "outputs": [
        {
          "output_type": "stream",
          "name": "stdout",
          "text": [
            "\u001b[1;3mPlease enter an integer to be divided:\u001b[0m 100\n",
            "\u001b[1;3mPlease enter an integer to divide by:\u001b[0m 2\n",
            "The result of this division is 50 with a remainder of 0\n"
          ]
        }
      ]
    },
    {
      "cell_type": "code",
      "source": [
        "#  06_rolldice.py\n",
        "\n",
        "import random  # Random module import to generate random numbers\n",
        "\n",
        "NUM_SIDES: int = 6  # Number of sides on each die\n",
        "\n",
        "def main():\n",
        "    # Roll the first die (random number between 1 and NUM_SIDES)\n",
        "    die1: int = random.randint(1, NUM_SIDES)\n",
        "\n",
        "    # Roll the second die (random number between 1 and NUM_SIDES)\n",
        "    die2: int = random.randint(1, NUM_SIDES)\n",
        "\n",
        "    # Calculate the total of both dice\n",
        "    total: int = die1 + die2\n",
        "\n",
        "    # Display the number of sides on the dice\n",
        "    print(\"Dice have\", NUM_SIDES, \"sides each.\")\n",
        "\n",
        "    # Display result of first die\n",
        "    print(\"First die:\", die1)\n",
        "\n",
        "    # Display result of second die\n",
        "    print(\"Second die:\", die2)\n",
        "\n",
        "    # Display the total of both dice\n",
        "    print(\"Total of two dice:\", total)\n",
        "\n",
        "# Only run the main function if this script is being executed directly\n",
        "if __name__ == '__main__':\n",
        "    main()\n"
      ],
      "metadata": {
        "colab": {
          "base_uri": "https://localhost:8080/"
        },
        "id": "Oz_H1j9F3Wp7",
        "outputId": "944f752e-921c-44ad-e555-295632e416c4"
      },
      "execution_count": 6,
      "outputs": [
        {
          "output_type": "stream",
          "name": "stdout",
          "text": [
            "Dice have 6 sides each.\n",
            "First die: 4\n",
            "Second die: 4\n",
            "Total of two dice: 8\n"
          ]
        }
      ]
    },
    {
      "cell_type": "code",
      "source": [
        "#  07_second_in_year.py\n",
        "\n",
        "# Useful constants to help make the math easier and cleaner!\n",
        "DAYS_PER_YEAR: int = 365         # Number of days in a year\n",
        "HOURS_PER_DAY: int = 24          # Number of hours in a day\n",
        "MIN_PER_HOUR: int = 60           # Number of minutes in an hour\n",
        "SEC_PER_MIN: int = 60            # Number of seconds in a minute\n",
        "\n",
        "def main():\n",
        "    # Calculate total seconds in a year using multiplication of constants\n",
        "    total_seconds = DAYS_PER_YEAR * HOURS_PER_DAY * MIN_PER_HOUR * SEC_PER_MIN\n",
        "\n",
        "    # Print the result in a nicely formatted message\n",
        "    print(f\"There are {total_seconds} seconds in a year!\")\n",
        "\n",
        "# Run the main function only if this file is executed directly\n",
        "if __name__ == '__main__':\n",
        "    main()\n"
      ],
      "metadata": {
        "colab": {
          "base_uri": "https://localhost:8080/"
        },
        "id": "veURqcxN3r6e",
        "outputId": "8ce67009-b59c-4ea1-fac0-5fc58a551896"
      },
      "execution_count": 7,
      "outputs": [
        {
          "output_type": "stream",
          "name": "stdout",
          "text": [
            "There are 31536000 seconds in a year!\n"
          ]
        }
      ]
    },
    {
      "cell_type": "code",
      "source": [
        "#  07_tiny_mad_lib.py\n",
        "\n",
        "# Sentence beginning (constant part of the sentence)\n",
        "SENTENCE_START: str = \"Panaversity is fun. I learned to program and used Python to make my \"\n",
        "\n",
        "def main():\n",
        "    # Prompt user to enter an adjective\n",
        "    adjective: str = input(\"Please type an adjective and press enter. \")\n",
        "\n",
        "    # Prompt user to enter a noun\n",
        "    noun: str = input(\"Please type a noun and press enter. \")\n",
        "\n",
        "    # Prompt user to enter a verb\n",
        "    verb: str = input(\"Please type a verb and press enter. \")\n",
        "\n",
        "    # Combine sentence start with the user inputs and print the final fun sentence\n",
        "    print(SENTENCE_START + adjective + \" \" + noun + \" \" + verb + \"!\")\n",
        "\n",
        "# Call the main function only when the script is run directly\n",
        "if __name__ == '__main__':\n",
        "    main()\n"
      ],
      "metadata": {
        "colab": {
          "base_uri": "https://localhost:8080/"
        },
        "id": "CZMBDI7b4MQ4",
        "outputId": "71c67ad2-601b-4dbc-aacd-f6de5db27033"
      },
      "execution_count": 8,
      "outputs": [
        {
          "output_type": "stream",
          "name": "stdout",
          "text": [
            "Please type an adjective and press enter. Elder\n",
            "Please type a noun and press enter. Brother\n",
            "Please type a verb and press enter. gp\n",
            "Panaversity is fun. I learned to program and used Python to make my Elder Brother gp!\n"
          ]
        }
      ]
    }
  ]
}