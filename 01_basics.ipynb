{
  "nbformat": 4,
  "nbformat_minor": 0,
  "metadata": {
    "colab": {
      "provenance": [],
      "authorship_tag": "ABX9TyM9t/L3jngvQfd1nWKByKej",
      "include_colab_link": true
    },
    "kernelspec": {
      "name": "python3",
      "display_name": "Python 3"
    },
    "language_info": {
      "name": "python"
    }
  },
  "cells": [
    {
      "cell_type": "markdown",
      "metadata": {
        "id": "view-in-github",
        "colab_type": "text"
      },
      "source": [
        "<a href=\"https://colab.research.google.com/github/MWaqarAhmedGH/Assignment-4/blob/main/01_basics.ipynb\" target=\"_parent\"><img src=\"https://colab.research.google.com/assets/colab-badge.svg\" alt=\"Open In Colab\"/></a>"
      ]
    },
    {
      "cell_type": "code",
      "execution_count": 3,
      "metadata": {
        "colab": {
          "base_uri": "https://localhost:8080/"
        },
        "id": "l8UNIZV0YSRu",
        "outputId": "5bf2ee9e-d563-464d-a1cb-fac63463bbc6"
      },
      "outputs": [
        {
          "output_type": "stream",
          "name": "stdout",
          "text": [
            "What do you want? Joke\n",
            "Here is a joke for you! Panaversity GPT - Sophia is heading out to the grocery store. A programmer tells her: get a liter of milk, and if they have eggs, get 12. Sophia returns with 13 liters of milk. The programmer asks why and Sophia replies: 'because they had eggs'\n"
          ]
        }
      ],
      "source": [
        "#  00_joke_bot.py\n",
        "\n",
        "#  ------------------------------------------------------------------------------------------------------------------------------  #\n",
        "#  Problem Statement:-\n",
        "#  Write a simple joke bot which starts by asking the user what they want. However, your program will only respond to one response:Joke.\n",
        "#  If the user enters Joke then we will print out a single joke. Each time the joke is always the same:\n",
        "#  Here is a joke for you! Panaversity GPT - Sophia is heading out to the grocery store. A programmer tells her: get a liter of milk,\n",
        "#  and if they have eggs, get 12. Sophia returns with 13 liters of milk. The programmer asks why and Sophia replies: 'because they had\n",
        "#  eggs.' If the user enters anything else we print out: Sorry I only tell jokes. You should use the three constants: PROMPT JOKE SORRY.\n",
        "#  which contain the strings for the prompt asked to the user, the joke to print out if the user enters Joke and the sorry message if\n",
        "#  the user enters anything else. Your program will need to use an if statement which checks if the user input is Joke:\n",
        "#  if user_input == \"Joke\":\n",
        "#  Recall that == is a comparison which tests if two values are equal to one another. Here is a full run of the program (user input is in blue):\n",
        "#  What do you want? Joke Here is a joke for you! Panaversity GPT - Sophia is heading out to the grocery store. A programmer tells her: get a liter of milk, and if they have eggs, get 12. Sophia returns with 13 liters of milk. The programmer asks why and Sophia replies: 'because they had eggs'\n",
        "#  ------------------------------------------------------------------------------------------------------------------------------  #\n",
        "\n",
        "# Constants used in the program\n",
        "PROMPT = \"What do you want? \"  # Prompt message for user input\n",
        "JOKE = \"Here is a joke for you! Panaversity GPT - Sophia is heading out to the grocery store. A programmer tells her: get a liter of milk, and if they have eggs, get 12. Sophia returns with 13 liters of milk. The programmer asks why and Sophia replies: 'because they had eggs'\"\n",
        "SORRY = \"Sorry I only tell jokes\"  # Message if input is not 'Joke'\n",
        "\n",
        "# Ask the user what they want\n",
        "user_input = input(PROMPT)  # Take user input\n",
        "\n",
        "# Check if the user asked for a joke\n",
        "if user_input == \"Joke\":\n",
        "    print(JOKE)  # Print the joke if input is exactly \"Joke\"\n",
        "else:\n",
        "    print(SORRY)  # Print sorry message for any other input\n"
      ]
    },
    {
      "cell_type": "code",
      "source": [
        "#  01_double_it.py\n",
        "\n",
        "#  ------------------------------------------------------------------------------------------------------------------------------  #\n",
        "#  Problem Statement:-\n",
        "#  Write a program that asks a user to enter a number. Your program will then double that number and print out the result. It will repeat\n",
        "#  that process until the value is 100 or greater. For example if the user enters the number 2 you would then print: 4 8 16 32 64 128\n",
        "#  Note that: 2 doubled is 4, 4 doubled is 8, 8 doubled is 16 and so on. We stop at 128 because that value is greater than 100.\n",
        "#  Maintain the current number in a variable named curr_value. When you double the number, you should be updating curr_value. Recall\n",
        "#  that you can double the value of curr_value using a line like: curr_value = curr_value * 2\n",
        "#  This program should have a while loop and the while loop condition should test if curr_value is less than 100. Thus, your program\n",
        "#  will have the line: while curr_value < 100:\n",
        "#  ------------------------------------------------------------------------------------------------------------------------------  #\n",
        "\n",
        "# Ask the user to enter a number and convert it to an integer\n",
        "curr_value = int(input(\"Enter a number: \"))\n",
        "\n",
        "# Start a loop that runs as long as curr_value is less than 100\n",
        "while curr_value < 100:\n",
        "    # Double the current value\n",
        "    curr_value = curr_value * 2\n",
        "\n",
        "    # Print the current doubled value\n",
        "    print(curr_value)\n"
      ],
      "metadata": {
        "colab": {
          "base_uri": "https://localhost:8080/"
        },
        "id": "Kwy7INniY8Dc",
        "outputId": "af54e0cb-ae77-45a7-bc16-66c3f26e93fc"
      },
      "execution_count": 4,
      "outputs": [
        {
          "output_type": "stream",
          "name": "stdout",
          "text": [
            "Enter a number: 5\n",
            "10\n",
            "20\n",
            "40\n",
            "80\n",
            "160\n"
          ]
        }
      ]
    },
    {
      "cell_type": "code",
      "source": [
        "#  02_liftoff.py\n",
        "\n",
        "#  ------------------------------------------------------------------------------------------------------------------------------  #\n",
        "# Problem Statement:-\n",
        "#  Write a program that prints out the calls for a spaceship that is about to launch. Countdown from 10 to 1 and then output Liftoff!\n",
        "#  Here's a sample run of the program: 10 9 8 7 6 5 4 3 2 1 Liftoff! There are many ways to solve this problem. One approach is to use\n",
        "#  a for loop, and to use the for loop variable i. Recall that i will keep track of how many times the for loop has completed executing\n",
        "#  its body. As an example this code:\n",
        "#  ------------------------------------------------------------------------------------------------------------------------------  #\n",
        "\n",
        "# Loop from 0 to 9 (10 times)\n",
        "for i in range(10):\n",
        "    # Print 10 minus the loop count (to get countdown from 10 to 1), end with space instead of newline\n",
        "    print(10 - i, end=' ')\n",
        "\n",
        "# After the loop ends, print \"Liftoff!\" on the same line\n",
        "print(\"Liftoff!\")\n"
      ],
      "metadata": {
        "colab": {
          "base_uri": "https://localhost:8080/"
        },
        "id": "twUR_ds7ZFjS",
        "outputId": "5e7ba07a-1c24-4ee8-f36a-cbf2c59fe470"
      },
      "execution_count": 5,
      "outputs": [
        {
          "output_type": "stream",
          "name": "stdout",
          "text": [
            "10 9 8 7 6 5 4 3 2 1 Liftoff!\n"
          ]
        }
      ]
    },
    {
      "cell_type": "code",
      "source": [
        "#  03_guess_my_number.py\n",
        "\n",
        "#  ------------------------------------------------------------------------------------------------------------------------------  #\n",
        "# Problem Statement:-\n",
        "#  Guess My Number: I am thinking of a number between 0 and 99... Enter a guess: 50 Your guess is too high, Enter a new number: 25 Your\n",
        "#  guess is too low. Enter a new number: 40 Your guess is too low. Enter a new number: 45 Your guess is too low. Enter a new number: 48\n",
        "#  Congrats! The number was: 48\n",
        "#  ------------------------------------------------------------------------------------------------------------------------------  #\n",
        "\n",
        "import random  # Importing the random module to generate a random number\n",
        "\n",
        "# Generate a random number between 0 and 99\n",
        "secret_number = random.randint(0, 99)\n",
        "\n",
        "# Keep asking the user for guesses until they get it right\n",
        "while True:\n",
        "    # Get user's guess as an integer\n",
        "    guess = int(input(\"I am thinking of a number between 0 and 99... Enter a guess: \"))\n",
        "\n",
        "    # Check if the guess is too high\n",
        "    if guess > secret_number:\n",
        "        print(\"Your guess is too high\")\n",
        "\n",
        "    # Check if the guess is too low\n",
        "    elif guess < secret_number:\n",
        "        print(\"Your guess is too low\")\n",
        "\n",
        "    # If guess is correct, congratulate the user and break the loop\n",
        "    else:\n",
        "        print(f\"Congrats! The number was: {secret_number}\")\n",
        "        break\n"
      ],
      "metadata": {
        "colab": {
          "base_uri": "https://localhost:8080/"
        },
        "id": "4qFqxBxqZLDQ",
        "outputId": "fdac5155-55bd-4e47-efdc-52f01f8db0fd"
      },
      "execution_count": 6,
      "outputs": [
        {
          "output_type": "stream",
          "name": "stdout",
          "text": [
            "I am thinking of a number between 0 and 99... Enter a guess: 50\n",
            "Your guess is too high\n",
            "I am thinking of a number between 0 and 99... Enter a guess: 40\n",
            "Your guess is too high\n",
            "I am thinking of a number between 0 and 99... Enter a guess: 30\n",
            "Your guess is too high\n",
            "I am thinking of a number between 0 and 99... Enter a guess: 20\n",
            "Your guess is too low\n",
            "I am thinking of a number between 0 and 99... Enter a guess: 15\n",
            "Your guess is too low\n",
            "I am thinking of a number between 0 and 99... Enter a guess: 18\n",
            "Your guess is too low\n",
            "I am thinking of a number between 0 and 99... Enter a guess: 19\n",
            "Your guess is too low\n",
            "I am thinking of a number between 0 and 99... Enter a guess: 22\n",
            "Your guess is too low\n",
            "I am thinking of a number between 0 and 99... Enter a guess: 26\n",
            "Congrats! The number was: 26\n"
          ]
        }
      ]
    },
    {
      "cell_type": "code",
      "source": [
        "#  04_random_numbers.py\n",
        "\n",
        "#  ------------------------------------------------------------------------------------------------------------------------------  #\n",
        "#  Problem Statement:-\n",
        "#  Print 10 random numbers in the range 1 to 100. Here is an example run: 45 79 61 47 52 10 16 83 19 12. Each time you run your program\n",
        "#  you should get different numbers. 81 76 70 1 27 63 96 100 32 92. Recall that the python random library has a function randint which\n",
        "#  returns an integer in the range set by the parameters (inclusive). For example this call would produce a random integer between 1 and\n",
        "#  6, which could include 1 and could include 6: value = random.randint(1, 6)\n",
        "#  ------------------------------------------------------------------------------------------------------------------------------  #\n",
        "\n",
        "import random  # Importing the random module for generating random numbers\n",
        "\n",
        "# Loop 10 times to generate and print 10 random numbers\n",
        "for _ in range(10):\n",
        "    # Generate a random number between 1 and 100\n",
        "    number = random.randint(1, 100)\n",
        "\n",
        "    # Print the number with a space, stay on the same line\n",
        "    print(number, end=' ')\n"
      ],
      "metadata": {
        "colab": {
          "base_uri": "https://localhost:8080/"
        },
        "id": "IGrSaPINZgvB",
        "outputId": "8a182054-08fb-4931-d0c3-bbdf01817f8c"
      },
      "execution_count": 7,
      "outputs": [
        {
          "output_type": "stream",
          "name": "stdout",
          "text": [
            "41 81 18 8 18 87 13 90 24 5 "
          ]
        }
      ]
    }
  ]
}