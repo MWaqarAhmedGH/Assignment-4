{
  "nbformat": 4,
  "nbformat_minor": 0,
  "metadata": {
    "colab": {
      "provenance": [],
      "authorship_tag": "ABX9TyMp0+SauanFGbyLrtedrtBj",
      "include_colab_link": true
    },
    "kernelspec": {
      "name": "python3",
      "display_name": "Python 3"
    },
    "language_info": {
      "name": "python"
    }
  },
  "cells": [
    {
      "cell_type": "markdown",
      "metadata": {
        "id": "view-in-github",
        "colab_type": "text"
      },
      "source": [
        "<a href=\"https://colab.research.google.com/github/MWaqarAhmedGH/Assignment-4/blob/main/05_Loops_Control_Flow.ipynb\" target=\"_parent\"><img src=\"https://colab.research.google.com/assets/colab-badge.svg\" alt=\"Open In Colab\"/></a>"
      ]
    },
    {
      "cell_type": "code",
      "execution_count": 1,
      "metadata": {
        "id": "b4wPGJF_KLWD",
        "colab": {
          "base_uri": "https://localhost:8080/"
        },
        "outputId": "5919a1f7-e51e-413a-d3be-35ac618bd6ba"
      },
      "outputs": [
        {
          "output_type": "stream",
          "name": "stdout",
          "text": [
            "I am thinking of a number between 0 and 99...\n",
            "Enter a guess: 1\n",
            "Your guess is too low\n",
            "Enter a guess: 60\n",
            "Your guess is too low\n",
            "Enter a guess: 80\n",
            "Your guess is too high\n",
            "Enter a guess: 70\n",
            "Your guess is too low\n",
            "Enter a guess: 75\n",
            "Congrats! The number was: 75\n"
          ]
        }
      ],
      "source": [
        "#  00_guess_my_number.py\n",
        "\n",
        "import random  # Import random module to generate random numbers\n",
        "\n",
        "def main():\n",
        "    secret_number = random.randint(0, 99)  # Random number between 0 and 99\n",
        "    print(\"I am thinking of a number between 0 and 99...\")\n",
        "\n",
        "    while True:  # Infinite loop until the user guesses correctly\n",
        "        try:\n",
        "            guess = int(input(\"Enter a guess: \"))  # Take user input and convert to integer\n",
        "            if guess < secret_number:\n",
        "                print(\"Your guess is too low\")  # Hint if guess is too small\n",
        "            elif guess > secret_number:\n",
        "                print(\"Your guess is too high\")  # Hint if guess is too large\n",
        "            else:\n",
        "                print(f\"Congrats! The number was: {secret_number}\")  # Correct guess\n",
        "                break  # Exit the loop\n",
        "        except ValueError:\n",
        "            print(\"Please enter a valid number!\")  # Handle non-integer inputs\n",
        "\n",
        "# Required to call the main function when script runs directly\n",
        "if __name__ == '__main__':\n",
        "    main()\n",
        "\n"
      ]
    },
    {
      "cell_type": "code",
      "source": [
        "#  01_fibonacci.py\n",
        "\n",
        "def main():\n",
        "    MAX_VALUE = 10000  # Constant for maximum limit of Fibonacci sequence\n",
        "\n",
        "    # Starting values of Fibonacci sequence: Fib(0) = 0, Fib(1) = 1\n",
        "    a, b = 0, 1\n",
        "\n",
        "    # Loop continues while the current term is less than MAX_VALUE\n",
        "    while a < MAX_VALUE:\n",
        "        print(a, end=\" \")  # Print current term with space\n",
        "        a, b = b, a + b  # Update values for next term\n",
        "\n",
        "# Run the main function if the script is executed directly\n",
        "if __name__ == '__main__':\n",
        "    main()\n"
      ],
      "metadata": {
        "colab": {
          "base_uri": "https://localhost:8080/"
        },
        "id": "eDfjFem100yi",
        "outputId": "424b47ee-83ba-48ed-e60b-874fb2e0fa11"
      },
      "execution_count": 2,
      "outputs": [
        {
          "output_type": "stream",
          "name": "stdout",
          "text": [
            "0 1 1 2 3 5 8 13 21 34 55 89 144 233 377 610 987 1597 2584 4181 6765 "
          ]
        }
      ]
    },
    {
      "cell_type": "code",
      "source": [
        "#  02_print_events.py\n",
        "\n",
        "def main():\n",
        "    count = 20  # Total number of even numbers to print\n",
        "\n",
        "    # Loop runs 20 times, from 0 to 19\n",
        "    for i in range(count):\n",
        "        print(i * 2, end=\" \")  # Multiply index by 2 to get even number, print with space\n",
        "\n",
        "# Ensures main() runs when script is executed directly\n",
        "if __name__ == '__main__':\n",
        "    main()\n"
      ],
      "metadata": {
        "colab": {
          "base_uri": "https://localhost:8080/"
        },
        "id": "mMLY_e5a07TW",
        "outputId": "57f05b4d-d366-413f-b377-c2c2eee5e616"
      },
      "execution_count": 3,
      "outputs": [
        {
          "output_type": "stream",
          "name": "stdout",
          "text": [
            "0 2 4 6 8 10 12 14 16 18 20 22 24 26 28 30 32 34 36 38 "
          ]
        }
      ]
    },
    {
      "cell_type": "code",
      "source": [
        "#  03_wholesome_machine.py\n",
        "\n",
        "def main():\n",
        "    # The correct affirmation the user must type\n",
        "    affirmation = \"I am capable of doing anything I put my mind to.\"\n",
        "\n",
        "    # Display the prompt to user\n",
        "    print(f\"Please type the following affirmation: {affirmation}\")\n",
        "\n",
        "    # Loop until user types the affirmation correctly\n",
        "    while True:\n",
        "        user_input = input(\"\\033[34m\")  # Input in blue text\n",
        "        print(\"\\033[0m\", end=\"\")  # Reset text color to default\n",
        "\n",
        "        # Check if user input matches the affirmation exactly\n",
        "        if user_input == affirmation:\n",
        "            print(\"That's right! :)\")\n",
        "            break  # Exit loop on correct input\n",
        "        else:\n",
        "            print(\"Hmmm That was not the affirmation. Please type the following affirmation:\", affirmation)\n",
        "\n",
        "# Ensures the main() function runs when script is executed\n",
        "if __name__ == '__main__':\n",
        "    main()\n"
      ],
      "metadata": {
        "colab": {
          "base_uri": "https://localhost:8080/"
        },
        "id": "tHyXy5ow1EWP",
        "outputId": "82e7ab53-521e-4c8a-b93e-a9d6e2a7b2af"
      },
      "execution_count": 4,
      "outputs": [
        {
          "output_type": "stream",
          "name": "stdout",
          "text": [
            "Please type the following affirmation: I am capable of doing anything I put my mind to.\n",
            "\u001b[34mI am capable of doing anything I put my mind t\n",
            "\u001b[0mHmmm That was not the affirmation. Please type the following affirmation: I am capable of doing anything I put my mind to.\n",
            "\u001b[34mI am capable of doing anything I put my mind to.\n",
            "\u001b[0mThat's right! :)\n"
          ]
        }
      ]
    },
    {
      "cell_type": "code",
      "source": [
        "#  04_liftoff.py\n",
        "\n",
        "def main():\n",
        "    # Countdown from 10 to 1 using a for loop\n",
        "    for i in range(10, 0, -1):  # Starts at 10, ends before 0, decreases by 1\n",
        "        print(i, end=\" \")  # Print number with a space, stay on the same line\n",
        "    print(\"Liftoff!\")  # Print Liftoff! after the countdown ends\n",
        "\n",
        "# This provided line is required at the end of\n",
        "# Python file to call the main() function.\n",
        "if __name__ == '__main__':\n",
        "    main()\n"
      ],
      "metadata": {
        "colab": {
          "base_uri": "https://localhost:8080/"
        },
        "id": "KjasWDzh1Pvd",
        "outputId": "c09d9af0-9e00-4def-cc86-4f0995167475"
      },
      "execution_count": 5,
      "outputs": [
        {
          "output_type": "stream",
          "name": "stdout",
          "text": [
            "10 9 8 7 6 5 4 3 2 1 Liftoff!\n"
          ]
        }
      ]
    },
    {
      "cell_type": "code",
      "source": [
        "#  05_double_it.py\n",
        "\n",
        "def main():\n",
        "    # Ask the user for a number and convert it to an integer\n",
        "    curr_value = int(input(\"Enter a number: \"))\n",
        "\n",
        "    # Loop until curr_value is 100 or greater\n",
        "    while curr_value < 100:\n",
        "        curr_value *= 2  # Double the value of curr_value\n",
        "        print(curr_value, end=\" \")  # Print the current value in the same line with space\n",
        "\n",
        "# This provided line is required at the end of\n",
        "# Python file to call the main() function.\n",
        "if __name__ == '__main__':\n",
        "    main()\n"
      ],
      "metadata": {
        "colab": {
          "base_uri": "https://localhost:8080/"
        },
        "id": "nu787HUe1WQO",
        "outputId": "ae7e13a9-b9fc-4f6a-899c-65a6bfcee9cf"
      },
      "execution_count": 6,
      "outputs": [
        {
          "output_type": "stream",
          "name": "stdout",
          "text": [
            "Enter a number: 5\n",
            "10 20 40 80 160 "
          ]
        }
      ]
    }
  ]
}