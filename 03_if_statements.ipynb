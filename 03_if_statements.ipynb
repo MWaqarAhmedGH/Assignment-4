{
  "nbformat": 4,
  "nbformat_minor": 0,
  "metadata": {
    "colab": {
      "provenance": [],
      "authorship_tag": "ABX9TyPi/5fze1TdXP2J+X3U1PtG",
      "include_colab_link": true
    },
    "kernelspec": {
      "name": "python3",
      "display_name": "Python 3"
    },
    "language_info": {
      "name": "python"
    }
  },
  "cells": [
    {
      "cell_type": "markdown",
      "metadata": {
        "id": "view-in-github",
        "colab_type": "text"
      },
      "source": [
        "<a href=\"https://colab.research.google.com/github/MWaqarAhmedGH/Assignment-4/blob/main/03_if_statements.ipynb\" target=\"_parent\"><img src=\"https://colab.research.google.com/assets/colab-badge.svg\" alt=\"Open In Colab\"/></a>"
      ]
    },
    {
      "cell_type": "code",
      "execution_count": 1,
      "metadata": {
        "colab": {
          "base_uri": "https://localhost:8080/"
        },
        "id": "SAJGZ3DqE_5Z",
        "outputId": "e2b1892f-26ef-48a5-bf57-2a8672957f73"
      },
      "outputs": [
        {
          "output_type": "stream",
          "name": "stdout",
          "text": [
            "0 2 4 6 8 10 12 14 16 18 20 22 24 26 28 30 32 34 36 38 "
          ]
        }
      ],
      "source": [
        "#  01_print_events.py\n",
        "\n",
        "def main():\n",
        "    # 0 se 19 tak loop chalega, total 20 baar\n",
        "    for i in range(20):\n",
        "        print(i * 2, end=\" \")  # Har baar 2 se multiply karke even number print karo\n",
        "\n",
        "# Program ka entry point\n",
        "if __name__ == '__main__':\n",
        "    main()\n"
      ]
    },
    {
      "cell_type": "code",
      "source": [
        "#  02_international_voting_age.py\n",
        "\n",
        "def main():\n",
        "    # User se age input lena\n",
        "    age = int(input(\"How old are you? \"))\n",
        "\n",
        "    # Peturksbouipo me vote dene ka check (voting age: 16)\n",
        "    if age >= 16:\n",
        "        print(\"You can vote in Peturksbouipo where the voting age is 16.\")\n",
        "    else:\n",
        "        print(\"You cannot vote in Peturksbouipo where the voting age is 16.\")\n",
        "\n",
        "    # Stanlau me vote dene ka check (voting age: 25)\n",
        "    if age >= 25:\n",
        "        print(\"You can vote in Stanlau where the voting age is 25.\")\n",
        "    else:\n",
        "        print(\"You cannot vote in Stanlau where the voting age is 25.\")\n",
        "\n",
        "    # Mayengua me vote dene ka check (voting age: 48)\n",
        "    if age >= 48:\n",
        "        print(\"You can vote in Mayengua where the voting age is 48.\")\n",
        "    else:\n",
        "        print(\"You cannot vote in Mayengua where the voting age is 48.\")\n",
        "\n",
        "# Program run hone ka entry point\n",
        "if __name__ == '__main__':\n",
        "    main()\n"
      ],
      "metadata": {
        "colab": {
          "base_uri": "https://localhost:8080/"
        },
        "id": "tu7hMxIUFKKV",
        "outputId": "dd4b5104-3a05-4745-e6d6-52c9834b1e7e"
      },
      "execution_count": 2,
      "outputs": [
        {
          "output_type": "stream",
          "name": "stdout",
          "text": [
            "How old are you? 43\n",
            "You can vote in Peturksbouipo where the voting age is 16.\n",
            "You can vote in Stanlau where the voting age is 25.\n",
            "You cannot vote in Mayengua where the voting age is 48.\n"
          ]
        }
      ]
    },
    {
      "cell_type": "code",
      "source": [
        "#  03_leap_year.py\n",
        "\n",
        "def main():\n",
        "    # User se year input lena\n",
        "    year = int(input(\"Enter a year: \"))\n",
        "\n",
        "    # Leap year ka check karna\n",
        "    if (year % 4 == 0 and year % 100 != 0) or (year % 400 == 0):\n",
        "        # Agar year leap year hai, toh message print karo\n",
        "        print(\"That's a leap year!\")\n",
        "    else:\n",
        "        # Agar year leap year nahi hai, toh message print karo\n",
        "        print(\"That's not a leap year.\")\n",
        "\n",
        "# Program run karne ka entry point\n",
        "if __name__ == '__main__':\n",
        "    main()\n"
      ],
      "metadata": {
        "colab": {
          "base_uri": "https://localhost:8080/"
        },
        "id": "0ac9OQ42FVP5",
        "outputId": "4546b5ca-96a8-49d8-9ce7-fc8b826a3731"
      },
      "execution_count": 3,
      "outputs": [
        {
          "output_type": "stream",
          "name": "stdout",
          "text": [
            "Enter a year: 2004\n",
            "That's a leap year!\n"
          ]
        }
      ]
    },
    {
      "cell_type": "code",
      "source": [
        "#  04_tall_enough_to_ride.py\n",
        "\n",
        "#  04_tall_enough_to_ride.py\n",
        "\n",
        "def main():\n",
        "    while True:\n",
        "        # User se height input lena\n",
        "        height = input(\"How tall(in feet) are you? \")\n",
        "\n",
        "        # Agar user ne khali enter press kiya to program stop ho jaye\n",
        "        if height == \"\":\n",
        "            print(\"Exiting the program. Have a great day!\")  # Program exit karte hue message print karna\n",
        "            break  # Loop ko break karna\n",
        "\n",
        "        # Input ko number me convert karna\n",
        "        try:\n",
        "            height = float(height)  # Ab string ko float me convert karna (int ki jagah)\n",
        "        except ValueError:\n",
        "            print(\"Please enter a valid number!\\n\")  # Agar galat number diya to error message\n",
        "            continue  # Wapas loop pe chale jao\n",
        "\n",
        "        # Height check karna\n",
        "        if height >= 5:  # Agar height 5 ya usse zyada hai\n",
        "            print(\"You're tall enough to ride!\\n\")  # Ride ke liye tall enough message\n",
        "        else:\n",
        "            print(\"You're not tall enough to ride, but maybe next year!\\n\")  # Ride ke liye tall enough nahi hone ka message\n",
        "\n",
        "# Yeh line program ko run karne ke liye zaroori hai\n",
        "if __name__ == '__main__':\n",
        "    main()  # Main function ko call karna\n"
      ],
      "metadata": {
        "colab": {
          "base_uri": "https://localhost:8080/"
        },
        "id": "vg0fJRzaLKj5",
        "outputId": "fe808201-77fa-4ff4-e8f8-f9b4796e0197"
      },
      "execution_count": 5,
      "outputs": [
        {
          "output_type": "stream",
          "name": "stdout",
          "text": [
            "How tall(in feet) are you? 6\n",
            "You're tall enough to ride!\n",
            "\n",
            "How tall(in feet) are you? \n",
            "Exiting the program. Have a great day!\n"
          ]
        }
      ]
    },
    {
      "cell_type": "code",
      "source": [
        "#  05_random_numbers.py\n",
        "\n",
        "import random  # Random module import karna\n",
        "\n",
        "def main():\n",
        "    # 10 random numbers generate karna aur unko space-separated print karna\n",
        "    random_numbers = [random.randint(1, 100) for _ in range(10)]  # List comprehension se 10 random numbers generate karna\n",
        "    print(*random_numbers)  # * operator se numbers ko space-separated print karna\n",
        "\n",
        "# Program ko run karne ke liye ye zaroori hai\n",
        "if __name__ == '__main__':\n",
        "    main()  # main function ko call karna\n"
      ],
      "metadata": {
        "colab": {
          "base_uri": "https://localhost:8080/"
        },
        "id": "F0fAZB4HLqHh",
        "outputId": "7e8b170e-d15f-40b3-cd66-9057459e6d56"
      },
      "execution_count": 6,
      "outputs": [
        {
          "output_type": "stream",
          "name": "stdout",
          "text": [
            "89 61 30 14 81 71 48 6 41 16\n"
          ]
        }
      ]
    }
  ]
}