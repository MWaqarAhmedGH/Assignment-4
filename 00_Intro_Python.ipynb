{
  "nbformat": 4,
  "nbformat_minor": 0,
  "metadata": {
    "colab": {
      "provenance": [],
      "authorship_tag": "ABX9TyMUviA6wVW7f+GrQglExhbg",
      "include_colab_link": true
    },
    "kernelspec": {
      "name": "python3",
      "display_name": "Python 3"
    },
    "language_info": {
      "name": "python"
    }
  },
  "cells": [
    {
      "cell_type": "markdown",
      "metadata": {
        "id": "view-in-github",
        "colab_type": "text"
      },
      "source": [
        "<a href=\"https://colab.research.google.com/github/MWaqarAhmedGH/Assignment-4/blob/main/00_Intro_Python.ipynb\" target=\"_parent\"><img src=\"https://colab.research.google.com/assets/colab-badge.svg\" alt=\"Open In Colab\"/></a>"
      ]
    },
    {
      "cell_type": "code",
      "execution_count": null,
      "metadata": {
        "colab": {
          "base_uri": "https://localhost:8080/"
        },
        "id": "cPhPZ3MAcko5",
        "outputId": "0ae3f2f7-6e92-4960-be67-1404259e0a2f"
      },
      "outputs": [
        {
          "output_type": "stream",
          "name": "stdout",
          "text": [
            "Enter the first number: 2\n",
            "Enter the second number: 5\n",
            "The total sum is: 7\n"
          ]
        }
      ],
      "source": [
        "# 01_add_two_numbers.py\n",
        "\n",
        "# This is the main function\n",
        "def main():\n",
        "\n",
        "    # Ask the user for the first number\n",
        "    num1 = input(\"Enter the first number: \")\n",
        "\n",
        "    # Convert it to an integer\n",
        "    num1 = int(num1)\n",
        "\n",
        "    # Ask the user for the second number\n",
        "    num2 = input(\"Enter the second number: \")\n",
        "\n",
        "    # Convert it to an integer\n",
        "    num2 = int(num2)\n",
        "\n",
        "    # Add the two numbers\n",
        "    total_sum = num1 + num2\n",
        "\n",
        "    # Show the result\n",
        "    print(\"The total sum is:\", total_sum)\n",
        "\n",
        "# Run the main function if this file is executed\n",
        "if __name__ == \"__main__\":\n",
        "    main()\n"
      ]
    },
    {
      "cell_type": "code",
      "source": [
        "# 02_agreement_bot.py\n",
        "\n",
        "# This is the main function\n",
        "def main():\n",
        "\n",
        "    # Ask the user for their favorite animal with styled text using ANSI escape codes (Bold & Italic/Revert Back to Normal)\n",
        "    animal = input(\"\\033[1;3m What's your favorite animal? \\033[0m\")\n",
        "\n",
        "    # Print a message agreeing with the user's choice\n",
        "    print(f\"My favorite animal is also {animal}!\")\n",
        "\n",
        "# Run the main function if this file is executed directly\n",
        "if __name__ == '__main__':\n",
        "    main()\n"
      ],
      "metadata": {
        "colab": {
          "base_uri": "https://localhost:8080/"
        },
        "id": "cT8D6oj_4teU",
        "outputId": "37c3b917-c28c-4fbc-d5ef-f17daae1d319"
      },
      "execution_count": null,
      "outputs": [
        {
          "output_type": "stream",
          "name": "stdout",
          "text": [
            "\u001b[1;3m What's your favorite animal? \u001b[0mkjkk\n",
            "My favorite animal is also kjkk!\n"
          ]
        }
      ]
    },
    {
      "cell_type": "code",
      "source": [
        "# 03_fahrenheit_to_celsius.py\n",
        "\n",
        "def main():\n",
        "    # Prompt the user to enter temperature in Fahrenheit\n",
        "    fahrenheit = float(input(\"\\033[1;3m Enter temperature in Fahrenheit: \\033[0m\"))\n",
        "\n",
        "    # Convert the temperature from Fahrenheit to Celsius using the formula\n",
        "    celsius = (fahrenheit - 32) * 5.0 / 9.0\n",
        "\n",
        "    # Display the result in both Fahrenheit and Celsius\n",
        "    print(f\"Temperature: {fahrenheit:.2f}F = {celsius:.2f}C\")\n",
        "\n",
        "# Execute the main function only if this script is run directly\n",
        "if __name__ == '__main__':\n",
        "    main()\n"
      ],
      "metadata": {
        "colab": {
          "base_uri": "https://localhost:8080/"
        },
        "id": "-Q5tuaJk6h70",
        "outputId": "5a7957fd-b906-4a15-aaef-1a579652f03d"
      },
      "execution_count": null,
      "outputs": [
        {
          "output_type": "stream",
          "name": "stdout",
          "text": [
            "\u001b[1;3m Enter temperature in Fahrenheit: \u001b[0m50\n",
            "Temperature: 50.00F = 10.00C\n"
          ]
        }
      ]
    },
    {
      "cell_type": "code",
      "source": [
        "# 04_how_old_are_they.py\n",
        "\n",
        "def main():\n",
        "    # Assigning Anton's age\n",
        "    Anton = 21\n",
        "\n",
        "    # Beth is 6 years older than Anton\n",
        "    Beth = Anton + 6\n",
        "\n",
        "    # Chen is 20 years older than Beth\n",
        "    Chen = Beth + 20\n",
        "\n",
        "    # Drew is the sum of Anton's and Chen's ages\n",
        "    Drew = Anton + Chen\n",
        "\n",
        "    # Ethan is the same age as Chen\n",
        "    Ethan = Chen\n",
        "\n",
        "    # Print the names and their respective ages\n",
        "    print(f\"Anton is {Anton}\")\n",
        "    print(f\"Beth is {Beth}\")\n",
        "    print(f\"Chen is {Chen}\")\n",
        "    print(f\"Drew is {Drew}\")\n",
        "    print(f\"Ethan is {Ethan}\")\n",
        "\n",
        "# Run the main function if this script is executed\n",
        "if __name__ == '__main__':\n",
        "    main()\n"
      ],
      "metadata": {
        "colab": {
          "base_uri": "https://localhost:8080/"
        },
        "id": "FprHxQ3P6wiR",
        "outputId": "344700e4-0273-4b61-fd23-6b0b12b35985"
      },
      "execution_count": null,
      "outputs": [
        {
          "output_type": "stream",
          "name": "stdout",
          "text": [
            "Anton is 21\n",
            "Beth is 27\n",
            "Chen is 47\n",
            "Drew is 68\n",
            "Ethan is 47\n"
          ]
        }
      ]
    },
    {
      "cell_type": "code",
      "source": [
        "# 05_triangle_perimeter.py\n",
        "\n",
        "def main():\n",
        "    # Get the length of side 1 from the user (bold italics)\n",
        "    side1 = float(input(\"\\033[1;3mWhat is the length of side 1? \\033[0m\"))\n",
        "\n",
        "    # Get the length of side 2 from the user (bold italics)\n",
        "    side2 = float(input(\"\\033[1;3mWhat is the length of side 2? \\033[0m\"))\n",
        "\n",
        "    # Get the length of side 3 from the user (bold italics)\n",
        "    side3 = float(input(\"\\033[1;3mWhat is the length of side 3? \\033[0m\"))\n",
        "\n",
        "    # Calculate the perimeter of the triangle\n",
        "    perimeter = side1 + side2 + side3\n",
        "\n",
        "    # Display the calculated perimeter\n",
        "    print(f\"The perimeter of the triangle is {perimeter}\")\n",
        "\n",
        "# Run the main function when the script is executed\n",
        "if __name__ == '__main__':\n",
        "    main()\n"
      ],
      "metadata": {
        "colab": {
          "base_uri": "https://localhost:8080/"
        },
        "id": "bpPftiCR662g",
        "outputId": "b3ac2e30-ebf4-4d4f-f945-b4c6e57092f4"
      },
      "execution_count": null,
      "outputs": [
        {
          "output_type": "stream",
          "name": "stdout",
          "text": [
            "\u001b[1;3mWhat is the length of side 1? \u001b[0m4\n",
            "\u001b[1;3mWhat is the length of side 2? \u001b[0m5\n",
            "\u001b[1;3mWhat is the length of side 3? \u001b[0m8\n",
            "The perimeter of the triangle is 17.0\n"
          ]
        }
      ]
    },
    {
      "cell_type": "code",
      "source": [
        "# 06_square_number.py\n",
        "\n",
        "def main():\n",
        "    # Prompt the user to enter a number (in bold italics)\n",
        "    number = float(input(\"\\033[1;3mType a number to see its square: \\033[0m\"))\n",
        "\n",
        "    # Calculate the square of the number\n",
        "    square = number * number\n",
        "\n",
        "    # Display the result\n",
        "    print(f\"{number} squared is {square}\")\n",
        "\n",
        "# Run the main function when the script is executed\n",
        "if __name__ == '__main__':\n",
        "    main()\n"
      ],
      "metadata": {
        "colab": {
          "base_uri": "https://localhost:8080/"
        },
        "id": "_Qxk-9Hd7FAq",
        "outputId": "21227198-3032-4331-d0ec-20229b0f8d9c"
      },
      "execution_count": null,
      "outputs": [
        {
          "output_type": "stream",
          "name": "stdout",
          "text": [
            "\u001b[1;3mType a number to see its square: \u001b[0m6\n",
            "6.0 squared is 36.0\n"
          ]
        }
      ]
    }
  ]
}